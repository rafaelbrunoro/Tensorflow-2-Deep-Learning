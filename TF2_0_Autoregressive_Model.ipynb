{
  "nbformat": 4,
  "nbformat_minor": 0,
  "metadata": {
    "colab": {
      "name": "TF2.0 Autoregressive Model.ipynb",
      "provenance": [],
      "collapsed_sections": []
    },
    "kernelspec": {
      "name": "python3",
      "display_name": "Python 3"
    }
  },
  "cells": [
    {
      "cell_type": "code",
      "metadata": {
        "id": "WJykK-B_rnbw",
        "outputId": "41beb897-3e87-4d87-cc2a-f420807c443d",
        "colab": {
          "base_uri": "https://localhost:8080/"
        }
      },
      "source": [
        "# Install TensorFlow\n",
        "# !pip install -q tensorflow-gpu==2.0.0-beta1\n",
        "\n",
        "try:\n",
        "  %tensorflow_version 2.x  # Colab only.\n",
        "except Exception:\n",
        "  pass\n",
        "\n",
        "import tensorflow as tf\n",
        "print(tf.__version__)"
      ],
      "execution_count": null,
      "outputs": [
        {
          "output_type": "stream",
          "text": [
            "`%tensorflow_version` only switches the major version: 1.x or 2.x.\n",
            "You set: `2.x  # Colab only.`. This will be interpreted as: `2.x`.\n",
            "\n",
            "\n",
            "TensorFlow 2.x selected.\n",
            "2.3.0\n"
          ],
          "name": "stdout"
        }
      ]
    },
    {
      "cell_type": "code",
      "metadata": {
        "id": "DkR-FgUGrt3f"
      },
      "source": [
        "from tensorflow.keras.layers import Input, Dense\n",
        "from tensorflow.keras.models import Model\n",
        "from tensorflow.keras.optimizers import SGD, Adam\n",
        "\n",
        "import numpy as np\n",
        "import pandas as pd\n",
        "import matplotlib.pyplot as plt"
      ],
      "execution_count": null,
      "outputs": []
    },
    {
      "cell_type": "code",
      "metadata": {
        "id": "NBgpKjxXsBZn",
        "outputId": "9a824493-3d5a-46f0-bc4d-e9330e0c228f",
        "colab": {
          "base_uri": "https://localhost:8080/",
          "height": 265
        }
      },
      "source": [
        "# make the original data\n",
        "series = np.sin(0.1*np.arange(200)) #+ np.random.randn(200)*0.1\n",
        "\n",
        "# plot it\n",
        "plt.plot(series)\n",
        "plt.show()"
      ],
      "execution_count": null,
      "outputs": [
        {
          "output_type": "display_data",
          "data": {
            "image/png": "[encoded data removed]",
            "text/plain": [
              "<Figure size 432x288 with 1 Axes>"
            ]
          },
          "metadata": {
            "tags": [],
            "needs_background": "light"
          }
        }
      ]
    },
    {
      "cell_type": "code",
      "metadata": {
        "id": "qnR4MAM9sGF1",
        "outputId": "1960e7d5-a457-4c49-9337-86de766a362d",
        "colab": {
          "base_uri": "https://localhost:8080/"
        }
      },
      "source": [
        "### build the dataset\n",
        "# let's see if we can use T past values to predict the next value\n",
        "T = 10\n",
        "X = []\n",
        "Y = []\n",
        "for t in range(len(series) - T):\n",
        "  x = series[t:t+T]\n",
        "  X.append(x)\n",
        "  y = series[t+T]\n",
        "  Y.append(y)\n",
        "\n",
        "X = np.array(X).reshape(-1, T)\n",
        "Y = np.array(Y)\n",
        "N = len(X)\n",
        "print(\"X.shape\", X.shape, \"Y.shape\", Y.shape)"
      ],
      "execution_count": null,
      "outputs": [
        {
          "output_type": "stream",
          "text": [
            "X.shape (190, 10) Y.shape (190,)\n"
          ],
          "name": "stdout"
        }
      ]
    },
    {
      "cell_type": "code",
      "metadata": {
        "id": "EESqey3TsODi",
        "outputId": "bd30cde4-493e-4b8d-a072-dc0a6d217a5e",
        "colab": {
          "base_uri": "https://localhost:8080/"
        }
      },
      "source": [
        "### try autoregressive linear model\n",
        "i = Input(shape=(T,))\n",
        "x = Dense(1)(i)\n",
        "model = Model(i, x)\n",
        "model.compile(\n",
        "  loss='mse',\n",
        "  optimizer=Adam(lr=0.1),\n",
        ")\n",
        "\n",
        "# train the RNN\n",
        "r = model.fit(\n",
        "  X[:-N//2], Y[:-N//2],\n",
        "  epochs=80,\n",
        "  validation_data=(X[-N//2:], Y[-N//2:]),\n",
        ")"
      ],
      "execution_count": null,
      "outputs": [
        {
          "output_type": "stream",
          "text": [
            "Epoch 1/80\n",
            "3/3 [==============================] - 0s 69ms/step - loss: 0.1165 - val_loss: 0.0341\n",
            "Epoch 2/80\n",
            "3/3 [==============================] - 0s 6ms/step - loss: 0.0755 - val_loss: 0.0079\n",
            "Epoch 3/80\n",
            "3/3 [==============================] - 0s 7ms/step - loss: 0.0240 - val_loss: 0.0497\n",
            "Epoch 4/80\n",
            "3/3 [==============================] - 0s 7ms/step - loss: 0.0252 - val_loss: 0.0136\n",
            "Epoch 5/80\n",
            "3/3 [==============================] - 0s 6ms/step - loss: 0.0225 - val_loss: 0.0103\n",
            "Epoch 6/80\n",
            "3/3 [==============================] - 0s 7ms/step - loss: 0.0057 - val_loss: 0.0148\n",
            "Epoch 7/80\n",
            "3/3 [==============================] - 0s 9ms/step - loss: 0.0109 - val_loss: 4.1701e-04\n",
            "Epoch 8/80\n",
            "3/3 [==============================] - 0s 7ms/step - loss: 0.0060 - val_loss: 0.0043\n",
            "Epoch 9/80\n",
            "3/3 [==============================] - 0s 6ms/step - loss: 0.0023 - val_loss: 0.0035\n",
            "Epoch 10/80\n",
            "3/3 [==============================] - 0s 7ms/step - loss: 0.0039 - val_loss: 1.8274e-04\n",
            "Epoch 11/80\n",
            "3/3 [==============================] - 0s 7ms/step - loss: 0.0021 - val_loss: 0.0025\n",
            "Epoch 12/80\n",
            "3/3 [==============================] - 0s 7ms/step - loss: 0.0011 - val_loss: 0.0020\n",
            "Epoch 13/80\n",
            "3/3 [==============================] - 0s 7ms/step - loss: 0.0015 - val_loss: 7.7659e-05\n",
            "Epoch 14/80\n",
            "3/3 [==============================] - 0s 7ms/step - loss: 7.7582e-04 - val_loss: 6.2685e-04\n",
            "Epoch 15/80\n",
            "3/3 [==============================] - 0s 8ms/step - loss: 4.1674e-04 - val_loss: 6.8677e-04\n",
            "Epoch 16/80\n",
            "3/3 [==============================] - 0s 7ms/step - loss: 5.4064e-04 - val_loss: 2.6357e-04\n",
            "Epoch 17/80\n",
            "3/3 [==============================] - 0s 7ms/step - loss: 4.2551e-04 - val_loss: 2.9000e-05\n",
            "Epoch 18/80\n",
            "3/3 [==============================] - 0s 7ms/step - loss: 2.1257e-04 - val_loss: 3.4390e-04\n",
            "Epoch 19/80\n",
            "3/3 [==============================] - 0s 6ms/step - loss: 1.3702e-04 - val_loss: 2.3264e-04\n",
            "Epoch 20/80\n",
            "3/3 [==============================] - 0s 7ms/step - loss: 1.5505e-04 - val_loss: 5.0829e-05\n",
            "Epoch 21/80\n",
            "3/3 [==============================] - 0s 7ms/step - loss: 1.5451e-04 - val_loss: 1.0398e-05\n",
            "Epoch 22/80\n",
            "3/3 [==============================] - 0s 8ms/step - loss: 9.5756e-05 - val_loss: 2.0957e-05\n",
            "Epoch 23/80\n",
            "3/3 [==============================] - 0s 7ms/step - loss: 5.5820e-05 - val_loss: 1.1710e-04\n",
            "Epoch 24/80\n",
            "3/3 [==============================] - 0s 6ms/step - loss: 5.6197e-05 - val_loss: 9.8197e-05\n",
            "Epoch 25/80\n",
            "3/3 [==============================] - 0s 6ms/step - loss: 5.3879e-05 - val_loss: 3.2187e-05\n",
            "Epoch 26/80\n",
            "3/3 [==============================] - 0s 6ms/step - loss: 3.9156e-05 - val_loss: 3.7134e-06\n",
            "Epoch 27/80\n",
            "3/3 [==============================] - 0s 9ms/step - loss: 2.1094e-05 - val_loss: 2.0893e-06\n",
            "Epoch 28/80\n",
            "3/3 [==============================] - 0s 7ms/step - loss: 1.5835e-05 - val_loss: 8.2973e-06\n",
            "Epoch 29/80\n",
            "3/3 [==============================] - 0s 6ms/step - loss: 1.0716e-05 - val_loss: 1.5787e-05\n",
            "Epoch 30/80\n",
            "3/3 [==============================] - 0s 8ms/step - loss: 7.9354e-06 - val_loss: 1.2556e-05\n",
            "Epoch 31/80\n",
            "3/3 [==============================] - 0s 8ms/step - loss: 7.5538e-06 - val_loss: 1.0287e-05\n",
            "Epoch 32/80\n",
            "3/3 [==============================] - 0s 7ms/step - loss: 8.3599e-06 - val_loss: 8.0586e-06\n",
            "Epoch 33/80\n",
            "3/3 [==============================] - 0s 7ms/step - loss: 7.0727e-06 - val_loss: 3.3466e-06\n",
            "Epoch 34/80\n",
            "3/3 [==============================] - 0s 8ms/step - loss: 4.6045e-06 - val_loss: 3.2426e-07\n",
            "Epoch 35/80\n",
            "3/3 [==============================] - 0s 7ms/step - loss: 2.4990e-06 - val_loss: 2.6838e-07\n",
            "Epoch 36/80\n",
            "3/3 [==============================] - 0s 8ms/step - loss: 1.7551e-06 - val_loss: 3.7803e-07\n",
            "Epoch 37/80\n",
            "3/3 [==============================] - 0s 7ms/step - loss: 1.3236e-06 - val_loss: 6.2935e-07\n",
            "Epoch 38/80\n",
            "3/3 [==============================] - 0s 7ms/step - loss: 8.9453e-07 - val_loss: 1.3747e-06\n",
            "Epoch 39/80\n",
            "3/3 [==============================] - 0s 6ms/step - loss: 7.8204e-07 - val_loss: 8.1624e-07\n",
            "Epoch 40/80\n",
            "3/3 [==============================] - 0s 7ms/step - loss: 5.7813e-07 - val_loss: 5.6736e-07\n",
            "Epoch 41/80\n",
            "3/3 [==============================] - 0s 7ms/step - loss: 4.4635e-07 - val_loss: 5.1446e-07\n",
            "Epoch 42/80\n",
            "3/3 [==============================] - 0s 7ms/step - loss: 3.7579e-07 - val_loss: 8.3187e-07\n",
            "Epoch 43/80\n",
            "3/3 [==============================] - 0s 6ms/step - loss: 2.6873e-07 - val_loss: 3.4042e-07\n",
            "Epoch 44/80\n",
            "3/3 [==============================] - 0s 7ms/step - loss: 2.4151e-07 - val_loss: 1.9475e-07\n",
            "Epoch 45/80\n",
            "3/3 [==============================] - 0s 7ms/step - loss: 1.7296e-07 - val_loss: 1.7773e-07\n",
            "Epoch 46/80\n",
            "3/3 [==============================] - 0s 9ms/step - loss: 1.3108e-07 - val_loss: 2.4493e-07\n",
            "Epoch 47/80\n",
            "3/3 [==============================] - 0s 8ms/step - loss: 1.1745e-07 - val_loss: 1.3779e-07\n",
            "Epoch 48/80\n",
            "3/3 [==============================] - 0s 7ms/step - loss: 1.0083e-07 - val_loss: 7.5360e-08\n",
            "Epoch 49/80\n",
            "3/3 [==============================] - 0s 8ms/step - loss: 8.3950e-08 - val_loss: 9.6417e-08\n",
            "Epoch 50/80\n",
            "3/3 [==============================] - 0s 7ms/step - loss: 6.6259e-08 - val_loss: 8.9916e-08\n",
            "Epoch 51/80\n",
            "3/3 [==============================] - 0s 7ms/step - loss: 4.9368e-08 - val_loss: 7.9527e-08\n",
            "Epoch 52/80\n",
            "3/3 [==============================] - 0s 7ms/step - loss: 4.8670e-08 - val_loss: 6.5563e-08\n",
            "Epoch 53/80\n",
            "3/3 [==============================] - 0s 9ms/step - loss: 5.5138e-08 - val_loss: 7.5301e-08\n",
            "Epoch 54/80\n",
            "3/3 [==============================] - 0s 9ms/step - loss: 5.0144e-08 - val_loss: 5.1233e-08\n",
            "Epoch 55/80\n",
            "3/3 [==============================] - 0s 11ms/step - loss: 2.9925e-08 - val_loss: 5.7819e-08\n",
            "Epoch 56/80\n",
            "3/3 [==============================] - 0s 10ms/step - loss: 2.7964e-08 - val_loss: 4.5829e-08\n",
            "Epoch 57/80\n",
            "3/3 [==============================] - 0s 7ms/step - loss: 3.4151e-08 - val_loss: 2.5564e-08\n",
            "Epoch 58/80\n",
            "3/3 [==============================] - 0s 7ms/step - loss: 2.0513e-08 - val_loss: 1.1889e-08\n",
            "Epoch 59/80\n",
            "3/3 [==============================] - 0s 7ms/step - loss: 1.4155e-08 - val_loss: 1.0278e-08\n",
            "Epoch 60/80\n",
            "3/3 [==============================] - 0s 6ms/step - loss: 1.2513e-08 - val_loss: 6.7386e-09\n",
            "Epoch 61/80\n",
            "3/3 [==============================] - 0s 7ms/step - loss: 1.3530e-08 - val_loss: 1.0162e-10\n",
            "Epoch 62/80\n",
            "3/3 [==============================] - 0s 6ms/step - loss: 1.0651e-08 - val_loss: 6.0651e-09\n",
            "Epoch 63/80\n",
            "3/3 [==============================] - 0s 7ms/step - loss: 8.5737e-09 - val_loss: 6.3227e-09\n",
            "Epoch 64/80\n",
            "3/3 [==============================] - 0s 7ms/step - loss: 7.3375e-09 - val_loss: 6.3356e-09\n",
            "Epoch 65/80\n",
            "3/3 [==============================] - 0s 8ms/step - loss: 6.5195e-09 - val_loss: 6.0876e-09\n",
            "Epoch 66/80\n",
            "3/3 [==============================] - 0s 8ms/step - loss: 5.0377e-09 - val_loss: 6.1372e-09\n",
            "Epoch 67/80\n",
            "3/3 [==============================] - 0s 7ms/step - loss: 3.4420e-09 - val_loss: 4.3155e-09\n",
            "Epoch 68/80\n",
            "3/3 [==============================] - 0s 7ms/step - loss: 2.6697e-09 - val_loss: 2.2311e-09\n",
            "Epoch 69/80\n",
            "3/3 [==============================] - 0s 8ms/step - loss: 1.5998e-09 - val_loss: 3.4523e-10\n",
            "Epoch 70/80\n",
            "3/3 [==============================] - 0s 7ms/step - loss: 1.1355e-09 - val_loss: 2.5684e-10\n",
            "Epoch 71/80\n",
            "3/3 [==============================] - 0s 7ms/step - loss: 1.0242e-09 - val_loss: 7.6931e-11\n",
            "Epoch 72/80\n",
            "3/3 [==============================] - 0s 7ms/step - loss: 6.8884e-10 - val_loss: 3.0996e-10\n",
            "Epoch 73/80\n",
            "3/3 [==============================] - 0s 8ms/step - loss: 6.2005e-10 - val_loss: 4.7985e-10\n",
            "Epoch 74/80\n",
            "3/3 [==============================] - 0s 7ms/step - loss: 7.9955e-10 - val_loss: 1.8797e-09\n",
            "Epoch 75/80\n",
            "3/3 [==============================] - 0s 7ms/step - loss: 9.5356e-10 - val_loss: 2.1015e-09\n",
            "Epoch 76/80\n",
            "3/3 [==============================] - 0s 6ms/step - loss: 1.2761e-09 - val_loss: 6.4377e-10\n",
            "Epoch 77/80\n",
            "3/3 [==============================] - 0s 7ms/step - loss: 9.5253e-10 - val_loss: 1.3059e-10\n",
            "Epoch 78/80\n",
            "3/3 [==============================] - 0s 7ms/step - loss: 6.2507e-10 - val_loss: 2.0636e-10\n",
            "Epoch 79/80\n",
            "3/3 [==============================] - 0s 7ms/step - loss: 4.4546e-10 - val_loss: 2.8791e-10\n",
            "Epoch 80/80\n",
            "3/3 [==============================] - 0s 7ms/step - loss: 3.1032e-10 - val_loss: 3.2222e-10\n"
          ],
          "name": "stdout"
        }
      ]
    },
    {
      "cell_type": "code",
      "metadata": {
        "id": "2BA0rLqrsw7i",
        "outputId": "a22b4f4f-ab7b-4eeb-ab74-9fa30359b665",
        "colab": {
          "base_uri": "https://localhost:8080/",
          "height": 283
        }
      },
      "source": [
        "# Plot loss per iteration\n",
        "import matplotlib.pyplot as plt\n",
        "plt.plot(r.history['loss'], label='loss')\n",
        "plt.plot(r.history['val_loss'], label='val_loss')\n",
        "plt.legend()"
      ],
      "execution_count": null,
      "outputs": [
        {
          "output_type": "execute_result",
          "data": {
            "text/plain": [
              "<matplotlib.legend.Legend at 0x7f235777e0b8>"
            ]
          },
          "metadata": {
            "tags": []
          },
          "execution_count": 6
        },
        {
          "output_type": "display_data",
          "data": {
            "image/png": "[encoded data removed]",
            "text/plain": [
              "<Figure size 432x288 with 1 Axes>"
            ]
          },
          "metadata": {
            "tags": [],
            "needs_background": "light"
          }
        }
      ]
    },
    {
      "cell_type": "code",
      "metadata": {
        "id": "DyyEx1Gx4Q7t"
      },
      "source": [
        "# \"Wrong\" forecast using true targets\n",
        "\n",
        "validation_target = Y[-N//2:]\n",
        "validation_predictions = []\n",
        "\n",
        "# index of first validation input\n",
        "i = -N//2\n",
        "\n",
        "while len(validation_predictions) < len(validation_target):\n",
        "  p = model.predict(X[i].reshape(1, -1))[0,0] # 1x1 array -> scalar\n",
        "  i += 1\n",
        "  \n",
        "  # update the predictions list\n",
        "  validation_predictions.append(p)"
      ],
      "execution_count": null,
      "outputs": []
    },
    {
      "cell_type": "code",
      "metadata": {
        "id": "hb18Dr0O4ec9",
        "outputId": "f6f47cb2-cd57-4900-8883-1acd4a08ae4c",
        "colab": {
          "base_uri": "https://localhost:8080/",
          "height": 283
        }
      },
      "source": [
        "plt.plot(validation_target, label='forecast target')\n",
        "plt.plot(validation_predictions, label='forecast prediction')\n",
        "plt.legend()"
      ],
      "execution_count": null,
      "outputs": [
        {
          "output_type": "execute_result",
          "data": {
            "text/plain": [
              "<matplotlib.legend.Legend at 0x7f2319fb2978>"
            ]
          },
          "metadata": {
            "tags": []
          },
          "execution_count": 8
        },
        {
          "output_type": "display_data",
          "data": {
            "image/png": "[encoded data removed]",
            "text/plain": [
              "<Figure size 432x288 with 1 Axes>"
            ]
          },
          "metadata": {
            "tags": [],
            "needs_background": "light"
          }
        }
      ]
    },
    {
      "cell_type": "code",
      "metadata": {
        "id": "j9Idhr4ss3g_"
      },
      "source": [
        "# Forecast future values (use only self-predictions for making future predictions)\n",
        "\n",
        "validation_target = Y[-N//2:]\n",
        "validation_predictions = []\n",
        "\n",
        "# first validation input\n",
        "last_x = X[-N//2] # 1-D array of length T\n",
        "\n",
        "while len(validation_predictions) < len(validation_target):\n",
        "  p = model.predict(last_x.reshape(1, -1))[0,0] # 1x1 array -> scalar\n",
        "  \n",
        "  # update the predictions list\n",
        "  validation_predictions.append(p)\n",
        "  \n",
        "  # make the new input\n",
        "  last_x = np.roll(last_x, -1)\n",
        "  last_x[-1] = p"
      ],
      "execution_count": null,
      "outputs": []
    },
    {
      "cell_type": "code",
      "metadata": {
        "id": "i0QEZgwV3WPI",
        "outputId": "79901384-374a-41ed-bdee-3fdbb462c266",
        "colab": {
          "base_uri": "https://localhost:8080/",
          "height": 283
        }
      },
      "source": [
        "plt.plot(validation_target, label='forecast target')\n",
        "plt.plot(validation_predictions, label='forecast prediction')\n",
        "plt.legend()"
      ],
      "execution_count": null,
      "outputs": [
        {
          "output_type": "execute_result",
          "data": {
            "text/plain": [
              "<matplotlib.legend.Legend at 0x7f231a010da0>"
            ]
          },
          "metadata": {
            "tags": []
          },
          "execution_count": 10
        },
        {
          "output_type": "display_data",
          "data": {
            "image/png": "[encoded data removed]",
            "text/plain": [
              "<Figure size 432x288 with 1 Axes>"
            ]
          },
          "metadata": {
            "tags": [],
            "needs_background": "light"
          }
        }
      ]
    }
  ]
}