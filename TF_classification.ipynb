{
  "nbformat": 4,
  "nbformat_minor": 0,
  "metadata": {
    "colab": {
      "name": "TF-classification.ipynb",
      "provenance": []
    },
    "kernelspec": {
      "name": "python3",
      "display_name": "Python 3"
    }
  },
  "cells": [
    {
      "cell_type": "code",
      "metadata": {
        "id": "A2p4YRXSRmhu",
        "outputId": "4ecf0f37-dfe5-4429-e602-d4157d2d0dc1",
        "colab": {
          "base_uri": "https://localhost:8080/",
          "height": 35
        }
      },
      "source": [
        "import tensorflow as tf\n",
        "print(tf.__version__)"
      ],
      "execution_count": null,
      "outputs": [
        {
          "output_type": "stream",
          "text": [
            "2.3.0\n"
          ],
          "name": "stdout"
        }
      ]
    },
    {
      "cell_type": "code",
      "metadata": {
        "id": "ueBUakrySEma"
      },
      "source": [
        "from sklearn.datasets import load_breast_cancer"
      ],
      "execution_count": null,
      "outputs": []
    },
    {
      "cell_type": "code",
      "metadata": {
        "id": "ohv0WV9oSqe8"
      },
      "source": [
        "data = load_breast_cancer()"
      ],
      "execution_count": null,
      "outputs": []
    },
    {
      "cell_type": "code",
      "metadata": {
        "id": "DeQgMG7HSwi3",
        "outputId": "4624bfcc-f9b1-418b-d979-b01fb4bdb0d9",
        "colab": {
          "base_uri": "https://localhost:8080/",
          "height": 35
        }
      },
      "source": [
        "type(data)"
      ],
      "execution_count": null,
      "outputs": [
        {
          "output_type": "execute_result",
          "data": {
            "text/plain": [
              "sklearn.utils.Bunch"
            ]
          },
          "metadata": {
            "tags": []
          },
          "execution_count": 4
        }
      ]
    },
    {
      "cell_type": "code",
      "metadata": {
        "id": "QQAyf1a1S19g",
        "outputId": "fb8e6aee-df6b-4a55-945b-c9954ea480bc",
        "colab": {
          "base_uri": "https://localhost:8080/",
          "height": 35
        }
      },
      "source": [
        "data.keys()"
      ],
      "execution_count": null,
      "outputs": [
        {
          "output_type": "execute_result",
          "data": {
            "text/plain": [
              "dict_keys(['data', 'target', 'target_names', 'DESCR', 'feature_names', 'filename'])"
            ]
          },
          "metadata": {
            "tags": []
          },
          "execution_count": 5
        }
      ]
    },
    {
      "cell_type": "code",
      "metadata": {
        "id": "QXqAGWqRS_ed",
        "outputId": "d3d3a416-728f-4e7c-acb1-65c4d909eb00",
        "colab": {
          "base_uri": "https://localhost:8080/",
          "height": 35
        }
      },
      "source": [
        "data.data.shape"
      ],
      "execution_count": null,
      "outputs": [
        {
          "output_type": "execute_result",
          "data": {
            "text/plain": [
              "(569, 30)"
            ]
          },
          "metadata": {
            "tags": []
          },
          "execution_count": 6
        }
      ]
    },
    {
      "cell_type": "code",
      "metadata": {
        "id": "6gLPHnTETS7Z",
        "outputId": "4bebb231-7686-4c54-e6ed-8a8cb8eb86a0",
        "colab": {
          "base_uri": "https://localhost:8080/",
          "height": 495
        }
      },
      "source": [
        "data.target"
      ],
      "execution_count": null,
      "outputs": [
        {
          "output_type": "execute_result",
          "data": {
            "text/plain": [
              "array([0, 0, 0, 0, 0, 0, 0, 0, 0, 0, 0, 0, 0, 0, 0, 0, 0, 0, 0, 1, 1, 1,\n",
              "       0, 0, 0, 0, 0, 0, 0, 0, 0, 0, 0, 0, 0, 0, 0, 1, 0, 0, 0, 0, 0, 0,\n",
              "       0, 0, 1, 0, 1, 1, 1, 1, 1, 0, 0, 1, 0, 0, 1, 1, 1, 1, 0, 1, 0, 0,\n",
              "       1, 1, 1, 1, 0, 1, 0, 0, 1, 0, 1, 0, 0, 1, 1, 1, 0, 0, 1, 0, 0, 0,\n",
              "       1, 1, 1, 0, 1, 1, 0, 0, 1, 1, 1, 0, 0, 1, 1, 1, 1, 0, 1, 1, 0, 1,\n",
              "       1, 1, 1, 1, 1, 1, 1, 0, 0, 0, 1, 0, 0, 1, 1, 1, 0, 0, 1, 0, 1, 0,\n",
              "       0, 1, 0, 0, 1, 1, 0, 1, 1, 0, 1, 1, 1, 1, 0, 1, 1, 1, 1, 1, 1, 1,\n",
              "       1, 1, 0, 1, 1, 1, 1, 0, 0, 1, 0, 1, 1, 0, 0, 1, 1, 0, 0, 1, 1, 1,\n",
              "       1, 0, 1, 1, 0, 0, 0, 1, 0, 1, 0, 1, 1, 1, 0, 1, 1, 0, 0, 1, 0, 0,\n",
              "       0, 0, 1, 0, 0, 0, 1, 0, 1, 0, 1, 1, 0, 1, 0, 0, 0, 0, 1, 1, 0, 0,\n",
              "       1, 1, 1, 0, 1, 1, 1, 1, 1, 0, 0, 1, 1, 0, 1, 1, 0, 0, 1, 0, 1, 1,\n",
              "       1, 1, 0, 1, 1, 1, 1, 1, 0, 1, 0, 0, 0, 0, 0, 0, 0, 0, 0, 0, 0, 0,\n",
              "       0, 0, 1, 1, 1, 1, 1, 1, 0, 1, 0, 1, 1, 0, 1, 1, 0, 1, 0, 0, 1, 1,\n",
              "       1, 1, 1, 1, 1, 1, 1, 1, 1, 1, 1, 0, 1, 1, 0, 1, 0, 1, 1, 1, 1, 1,\n",
              "       1, 1, 1, 1, 1, 1, 1, 1, 1, 0, 1, 1, 1, 0, 1, 0, 1, 1, 1, 1, 0, 0,\n",
              "       0, 1, 1, 1, 1, 0, 1, 0, 1, 0, 1, 1, 1, 0, 1, 1, 1, 1, 1, 1, 1, 0,\n",
              "       0, 0, 1, 1, 1, 1, 1, 1, 1, 1, 1, 1, 1, 0, 0, 1, 0, 0, 0, 1, 0, 0,\n",
              "       1, 1, 1, 1, 1, 0, 1, 1, 1, 1, 1, 0, 1, 1, 1, 0, 1, 1, 0, 0, 1, 1,\n",
              "       1, 1, 1, 1, 0, 1, 1, 1, 1, 1, 1, 1, 0, 1, 1, 1, 1, 1, 0, 1, 1, 0,\n",
              "       1, 1, 1, 1, 1, 1, 1, 1, 1, 1, 1, 1, 0, 1, 0, 0, 1, 0, 1, 1, 1, 1,\n",
              "       1, 0, 1, 1, 0, 1, 0, 1, 1, 0, 1, 0, 1, 1, 1, 1, 1, 1, 1, 1, 0, 0,\n",
              "       1, 1, 1, 1, 1, 1, 0, 1, 1, 1, 1, 1, 1, 1, 1, 1, 1, 0, 1, 1, 1, 1,\n",
              "       1, 1, 1, 0, 1, 0, 1, 1, 0, 1, 1, 1, 1, 1, 0, 0, 1, 0, 1, 0, 1, 1,\n",
              "       1, 1, 1, 0, 1, 1, 0, 1, 0, 1, 0, 0, 1, 1, 1, 0, 1, 1, 1, 1, 1, 1,\n",
              "       1, 1, 1, 1, 1, 0, 1, 0, 0, 1, 1, 1, 1, 1, 1, 1, 1, 1, 1, 1, 1, 1,\n",
              "       1, 1, 1, 1, 1, 1, 1, 1, 1, 1, 1, 1, 0, 0, 0, 0, 0, 0, 1])"
            ]
          },
          "metadata": {
            "tags": []
          },
          "execution_count": 7
        }
      ]
    },
    {
      "cell_type": "code",
      "metadata": {
        "id": "7E1aZNFPTbp1",
        "outputId": "62e8cf0d-49e0-49a8-8dd0-c4db62a2f6b4",
        "colab": {
          "base_uri": "https://localhost:8080/",
          "height": 35
        }
      },
      "source": [
        "data.target_names"
      ],
      "execution_count": null,
      "outputs": [
        {
          "output_type": "execute_result",
          "data": {
            "text/plain": [
              "array(['malignant', 'benign'], dtype='<U9')"
            ]
          },
          "metadata": {
            "tags": []
          },
          "execution_count": 8
        }
      ]
    },
    {
      "cell_type": "code",
      "metadata": {
        "id": "pOm3EwlmTgAB",
        "outputId": "2041365a-7735-4364-fd16-097eee7f5827",
        "colab": {
          "base_uri": "https://localhost:8080/",
          "height": 35
        }
      },
      "source": [
        "data.target.shape"
      ],
      "execution_count": null,
      "outputs": [
        {
          "output_type": "execute_result",
          "data": {
            "text/plain": [
              "(569,)"
            ]
          },
          "metadata": {
            "tags": []
          },
          "execution_count": 9
        }
      ]
    },
    {
      "cell_type": "code",
      "metadata": {
        "id": "xiMKB89NTk_L",
        "outputId": "57f763eb-4888-4515-a95c-e4e137543c93",
        "colab": {
          "base_uri": "https://localhost:8080/",
          "height": 201
        }
      },
      "source": [
        "data.feature_names"
      ],
      "execution_count": null,
      "outputs": [
        {
          "output_type": "execute_result",
          "data": {
            "text/plain": [
              "array(['mean radius', 'mean texture', 'mean perimeter', 'mean area',\n",
              "       'mean smoothness', 'mean compactness', 'mean concavity',\n",
              "       'mean concave points', 'mean symmetry', 'mean fractal dimension',\n",
              "       'radius error', 'texture error', 'perimeter error', 'area error',\n",
              "       'smoothness error', 'compactness error', 'concavity error',\n",
              "       'concave points error', 'symmetry error',\n",
              "       'fractal dimension error', 'worst radius', 'worst texture',\n",
              "       'worst perimeter', 'worst area', 'worst smoothness',\n",
              "       'worst compactness', 'worst concavity', 'worst concave points',\n",
              "       'worst symmetry', 'worst fractal dimension'], dtype='<U23')"
            ]
          },
          "metadata": {
            "tags": []
          },
          "execution_count": 10
        }
      ]
    },
    {
      "cell_type": "code",
      "metadata": {
        "id": "TKy_Tn0eToBq"
      },
      "source": [
        "from sklearn.model_selection import train_test_split\n",
        "\n",
        "x_train,x_test,y_train,y_test = train_test_split(data.data, data.target, test_size=0.33)\n",
        "N, D = x_train.shape"
      ],
      "execution_count": null,
      "outputs": []
    },
    {
      "cell_type": "code",
      "metadata": {
        "id": "A_KAoYDXT9Tr"
      },
      "source": [
        "from sklearn.preprocessing import StandardScaler\n",
        "\n",
        "scaler = StandardScaler()\n",
        "x_train = scaler.fit_transform(x_train)\n",
        "x_test = scaler.transform(x_test)\n"
      ],
      "execution_count": null,
      "outputs": []
    },
    {
      "cell_type": "code",
      "metadata": {
        "id": "y9jUnJf6VMlb",
        "outputId": "3304c386-e4ac-422c-bfad-a16224f92bd8",
        "colab": {
          "base_uri": "https://localhost:8080/",
          "height": 1000
        }
      },
      "source": [
        "model = tf.keras.models.Sequential([\n",
        "  tf.keras.layers.Input(shape=(D,)),\n",
        "  tf.keras.layers.Dense(1, activation='sigmoid')\n",
        "])\n",
        "\n",
        "model.compile(optimizer='adam',\n",
        "              loss='binary_crossentropy',\n",
        "              metrics=['accuracy'])\n",
        "\n",
        "r = model.fit(x_train, y_train, validation_data=(x_test, y_test), epochs=100)\n",
        "\n",
        "print(\"Train score:\", model.evaluate(x_train, y_train))\n",
        "print(\"Test score:\", model.evaluate(x_test, y_test))"
      ],
      "execution_count": null,
      "outputs": [
        {
          "output_type": "stream",
          "text": [
            "Epoch 1/100\n",
            "12/12 [==============================] - 0s 16ms/step - loss: 0.7429 - accuracy: 0.5381 - val_loss: 0.7225 - val_accuracy: 0.5372\n",
            "Epoch 2/100\n",
            "12/12 [==============================] - 0s 3ms/step - loss: 0.6664 - accuracy: 0.6299 - val_loss: 0.6435 - val_accuracy: 0.6064\n",
            "Epoch 3/100\n",
            "12/12 [==============================] - 0s 3ms/step - loss: 0.6018 - accuracy: 0.6982 - val_loss: 0.5758 - val_accuracy: 0.6915\n",
            "Epoch 4/100\n",
            "12/12 [==============================] - 0s 3ms/step - loss: 0.5445 - accuracy: 0.7638 - val_loss: 0.5194 - val_accuracy: 0.7606\n",
            "Epoch 5/100\n",
            "12/12 [==============================] - 0s 3ms/step - loss: 0.4969 - accuracy: 0.8189 - val_loss: 0.4724 - val_accuracy: 0.8245\n",
            "Epoch 6/100\n",
            "12/12 [==============================] - 0s 3ms/step - loss: 0.4567 - accuracy: 0.8661 - val_loss: 0.4323 - val_accuracy: 0.8457\n",
            "Epoch 7/100\n",
            "12/12 [==============================] - 0s 3ms/step - loss: 0.4212 - accuracy: 0.8688 - val_loss: 0.3998 - val_accuracy: 0.8564\n",
            "Epoch 8/100\n",
            "12/12 [==============================] - 0s 3ms/step - loss: 0.3928 - accuracy: 0.8793 - val_loss: 0.3712 - val_accuracy: 0.8777\n",
            "Epoch 9/100\n",
            "12/12 [==============================] - 0s 3ms/step - loss: 0.3680 - accuracy: 0.8898 - val_loss: 0.3467 - val_accuracy: 0.8936\n",
            "Epoch 10/100\n",
            "12/12 [==============================] - 0s 3ms/step - loss: 0.3462 - accuracy: 0.8950 - val_loss: 0.3263 - val_accuracy: 0.9043\n",
            "Epoch 11/100\n",
            "12/12 [==============================] - 0s 3ms/step - loss: 0.3284 - accuracy: 0.9029 - val_loss: 0.3080 - val_accuracy: 0.9043\n",
            "Epoch 12/100\n",
            "12/12 [==============================] - 0s 3ms/step - loss: 0.3120 - accuracy: 0.9134 - val_loss: 0.2929 - val_accuracy: 0.9043\n",
            "Epoch 13/100\n",
            "12/12 [==============================] - 0s 3ms/step - loss: 0.2980 - accuracy: 0.9213 - val_loss: 0.2794 - val_accuracy: 0.9096\n",
            "Epoch 14/100\n",
            "12/12 [==============================] - 0s 3ms/step - loss: 0.2856 - accuracy: 0.9318 - val_loss: 0.2674 - val_accuracy: 0.9149\n",
            "Epoch 15/100\n",
            "12/12 [==============================] - 0s 4ms/step - loss: 0.2747 - accuracy: 0.9370 - val_loss: 0.2564 - val_accuracy: 0.9202\n",
            "Epoch 16/100\n",
            "12/12 [==============================] - 0s 3ms/step - loss: 0.2646 - accuracy: 0.9370 - val_loss: 0.2467 - val_accuracy: 0.9362\n",
            "Epoch 17/100\n",
            "12/12 [==============================] - 0s 3ms/step - loss: 0.2554 - accuracy: 0.9449 - val_loss: 0.2385 - val_accuracy: 0.9415\n",
            "Epoch 18/100\n",
            "12/12 [==============================] - 0s 3ms/step - loss: 0.2471 - accuracy: 0.9501 - val_loss: 0.2309 - val_accuracy: 0.9468\n",
            "Epoch 19/100\n",
            "12/12 [==============================] - 0s 3ms/step - loss: 0.2395 - accuracy: 0.9554 - val_loss: 0.2237 - val_accuracy: 0.9574\n",
            "Epoch 20/100\n",
            "12/12 [==============================] - 0s 3ms/step - loss: 0.2325 - accuracy: 0.9554 - val_loss: 0.2170 - val_accuracy: 0.9521\n",
            "Epoch 21/100\n",
            "12/12 [==============================] - 0s 3ms/step - loss: 0.2258 - accuracy: 0.9554 - val_loss: 0.2112 - val_accuracy: 0.9521\n",
            "Epoch 22/100\n",
            "12/12 [==============================] - 0s 3ms/step - loss: 0.2199 - accuracy: 0.9580 - val_loss: 0.2058 - val_accuracy: 0.9521\n",
            "Epoch 23/100\n",
            "12/12 [==============================] - 0s 3ms/step - loss: 0.2141 - accuracy: 0.9606 - val_loss: 0.2008 - val_accuracy: 0.9521\n",
            "Epoch 24/100\n",
            "12/12 [==============================] - 0s 3ms/step - loss: 0.2087 - accuracy: 0.9606 - val_loss: 0.1962 - val_accuracy: 0.9521\n",
            "Epoch 25/100\n",
            "12/12 [==============================] - 0s 3ms/step - loss: 0.2038 - accuracy: 0.9633 - val_loss: 0.1918 - val_accuracy: 0.9521\n",
            "Epoch 26/100\n",
            "12/12 [==============================] - 0s 3ms/step - loss: 0.1991 - accuracy: 0.9633 - val_loss: 0.1879 - val_accuracy: 0.9468\n",
            "Epoch 27/100\n",
            "12/12 [==============================] - 0s 3ms/step - loss: 0.1946 - accuracy: 0.9633 - val_loss: 0.1842 - val_accuracy: 0.9468\n",
            "Epoch 28/100\n",
            "12/12 [==============================] - 0s 3ms/step - loss: 0.1903 - accuracy: 0.9633 - val_loss: 0.1808 - val_accuracy: 0.9521\n",
            "Epoch 29/100\n",
            "12/12 [==============================] - 0s 3ms/step - loss: 0.1864 - accuracy: 0.9633 - val_loss: 0.1777 - val_accuracy: 0.9521\n",
            "Epoch 30/100\n",
            "12/12 [==============================] - 0s 3ms/step - loss: 0.1826 - accuracy: 0.9633 - val_loss: 0.1746 - val_accuracy: 0.9521\n",
            "Epoch 31/100\n",
            "12/12 [==============================] - 0s 3ms/step - loss: 0.1790 - accuracy: 0.9633 - val_loss: 0.1717 - val_accuracy: 0.9521\n",
            "Epoch 32/100\n",
            "12/12 [==============================] - 0s 3ms/step - loss: 0.1755 - accuracy: 0.9633 - val_loss: 0.1691 - val_accuracy: 0.9574\n",
            "Epoch 33/100\n",
            "12/12 [==============================] - 0s 3ms/step - loss: 0.1722 - accuracy: 0.9659 - val_loss: 0.1667 - val_accuracy: 0.9574\n",
            "Epoch 34/100\n",
            "12/12 [==============================] - 0s 3ms/step - loss: 0.1692 - accuracy: 0.9659 - val_loss: 0.1643 - val_accuracy: 0.9574\n",
            "Epoch 35/100\n",
            "12/12 [==============================] - 0s 4ms/step - loss: 0.1661 - accuracy: 0.9659 - val_loss: 0.1620 - val_accuracy: 0.9574\n",
            "Epoch 36/100\n",
            "12/12 [==============================] - 0s 3ms/step - loss: 0.1633 - accuracy: 0.9659 - val_loss: 0.1601 - val_accuracy: 0.9574\n",
            "Epoch 37/100\n",
            "12/12 [==============================] - 0s 3ms/step - loss: 0.1605 - accuracy: 0.9659 - val_loss: 0.1581 - val_accuracy: 0.9574\n",
            "Epoch 38/100\n",
            "12/12 [==============================] - 0s 3ms/step - loss: 0.1579 - accuracy: 0.9685 - val_loss: 0.1563 - val_accuracy: 0.9574\n",
            "Epoch 39/100\n",
            "12/12 [==============================] - 0s 3ms/step - loss: 0.1553 - accuracy: 0.9685 - val_loss: 0.1545 - val_accuracy: 0.9574\n",
            "Epoch 40/100\n",
            "12/12 [==============================] - 0s 3ms/step - loss: 0.1529 - accuracy: 0.9685 - val_loss: 0.1528 - val_accuracy: 0.9574\n",
            "Epoch 41/100\n",
            "12/12 [==============================] - 0s 3ms/step - loss: 0.1505 - accuracy: 0.9711 - val_loss: 0.1513 - val_accuracy: 0.9574\n",
            "Epoch 42/100\n",
            "12/12 [==============================] - 0s 3ms/step - loss: 0.1483 - accuracy: 0.9711 - val_loss: 0.1498 - val_accuracy: 0.9628\n",
            "Epoch 43/100\n",
            "12/12 [==============================] - 0s 3ms/step - loss: 0.1461 - accuracy: 0.9738 - val_loss: 0.1483 - val_accuracy: 0.9628\n",
            "Epoch 44/100\n",
            "12/12 [==============================] - 0s 3ms/step - loss: 0.1440 - accuracy: 0.9764 - val_loss: 0.1469 - val_accuracy: 0.9628\n",
            "Epoch 45/100\n",
            "12/12 [==============================] - 0s 3ms/step - loss: 0.1419 - accuracy: 0.9764 - val_loss: 0.1455 - val_accuracy: 0.9681\n",
            "Epoch 46/100\n",
            "12/12 [==============================] - 0s 3ms/step - loss: 0.1400 - accuracy: 0.9790 - val_loss: 0.1443 - val_accuracy: 0.9681\n",
            "Epoch 47/100\n",
            "12/12 [==============================] - 0s 4ms/step - loss: 0.1381 - accuracy: 0.9790 - val_loss: 0.1431 - val_accuracy: 0.9681\n",
            "Epoch 48/100\n",
            "12/12 [==============================] - 0s 3ms/step - loss: 0.1362 - accuracy: 0.9790 - val_loss: 0.1420 - val_accuracy: 0.9681\n",
            "Epoch 49/100\n",
            "12/12 [==============================] - 0s 3ms/step - loss: 0.1344 - accuracy: 0.9790 - val_loss: 0.1410 - val_accuracy: 0.9681\n",
            "Epoch 50/100\n",
            "12/12 [==============================] - 0s 3ms/step - loss: 0.1327 - accuracy: 0.9790 - val_loss: 0.1399 - val_accuracy: 0.9681\n",
            "Epoch 51/100\n",
            "12/12 [==============================] - 0s 3ms/step - loss: 0.1310 - accuracy: 0.9790 - val_loss: 0.1388 - val_accuracy: 0.9681\n",
            "Epoch 52/100\n",
            "12/12 [==============================] - 0s 4ms/step - loss: 0.1294 - accuracy: 0.9790 - val_loss: 0.1379 - val_accuracy: 0.9681\n",
            "Epoch 53/100\n",
            "12/12 [==============================] - 0s 4ms/step - loss: 0.1279 - accuracy: 0.9816 - val_loss: 0.1371 - val_accuracy: 0.9681\n",
            "Epoch 54/100\n",
            "12/12 [==============================] - 0s 3ms/step - loss: 0.1263 - accuracy: 0.9816 - val_loss: 0.1362 - val_accuracy: 0.9681\n",
            "Epoch 55/100\n",
            "12/12 [==============================] - 0s 3ms/step - loss: 0.1249 - accuracy: 0.9816 - val_loss: 0.1353 - val_accuracy: 0.9681\n",
            "Epoch 56/100\n",
            "12/12 [==============================] - 0s 3ms/step - loss: 0.1234 - accuracy: 0.9816 - val_loss: 0.1344 - val_accuracy: 0.9681\n",
            "Epoch 57/100\n",
            "12/12 [==============================] - 0s 3ms/step - loss: 0.1220 - accuracy: 0.9816 - val_loss: 0.1337 - val_accuracy: 0.9681\n",
            "Epoch 58/100\n",
            "12/12 [==============================] - 0s 3ms/step - loss: 0.1206 - accuracy: 0.9816 - val_loss: 0.1329 - val_accuracy: 0.9681\n",
            "Epoch 59/100\n",
            "12/12 [==============================] - 0s 3ms/step - loss: 0.1193 - accuracy: 0.9816 - val_loss: 0.1323 - val_accuracy: 0.9681\n",
            "Epoch 60/100\n",
            "12/12 [==============================] - 0s 3ms/step - loss: 0.1181 - accuracy: 0.9816 - val_loss: 0.1316 - val_accuracy: 0.9681\n",
            "Epoch 61/100\n",
            "12/12 [==============================] - 0s 3ms/step - loss: 0.1168 - accuracy: 0.9816 - val_loss: 0.1310 - val_accuracy: 0.9681\n",
            "Epoch 62/100\n",
            "12/12 [==============================] - 0s 4ms/step - loss: 0.1155 - accuracy: 0.9816 - val_loss: 0.1303 - val_accuracy: 0.9681\n",
            "Epoch 63/100\n",
            "12/12 [==============================] - 0s 4ms/step - loss: 0.1143 - accuracy: 0.9816 - val_loss: 0.1296 - val_accuracy: 0.9681\n",
            "Epoch 64/100\n",
            "12/12 [==============================] - 0s 3ms/step - loss: 0.1132 - accuracy: 0.9843 - val_loss: 0.1291 - val_accuracy: 0.9681\n",
            "Epoch 65/100\n",
            "12/12 [==============================] - 0s 3ms/step - loss: 0.1120 - accuracy: 0.9843 - val_loss: 0.1285 - val_accuracy: 0.9681\n",
            "Epoch 66/100\n",
            "12/12 [==============================] - 0s 3ms/step - loss: 0.1109 - accuracy: 0.9843 - val_loss: 0.1279 - val_accuracy: 0.9681\n",
            "Epoch 67/100\n",
            "12/12 [==============================] - 0s 3ms/step - loss: 0.1100 - accuracy: 0.9843 - val_loss: 0.1275 - val_accuracy: 0.9681\n",
            "Epoch 68/100\n",
            "12/12 [==============================] - 0s 3ms/step - loss: 0.1088 - accuracy: 0.9843 - val_loss: 0.1270 - val_accuracy: 0.9681\n",
            "Epoch 69/100\n",
            "12/12 [==============================] - 0s 3ms/step - loss: 0.1078 - accuracy: 0.9843 - val_loss: 0.1264 - val_accuracy: 0.9681\n",
            "Epoch 70/100\n",
            "12/12 [==============================] - 0s 3ms/step - loss: 0.1068 - accuracy: 0.9843 - val_loss: 0.1258 - val_accuracy: 0.9681\n",
            "Epoch 71/100\n",
            "12/12 [==============================] - 0s 3ms/step - loss: 0.1058 - accuracy: 0.9843 - val_loss: 0.1254 - val_accuracy: 0.9681\n",
            "Epoch 72/100\n",
            "12/12 [==============================] - 0s 3ms/step - loss: 0.1048 - accuracy: 0.9843 - val_loss: 0.1249 - val_accuracy: 0.9681\n",
            "Epoch 73/100\n",
            "12/12 [==============================] - 0s 3ms/step - loss: 0.1039 - accuracy: 0.9843 - val_loss: 0.1245 - val_accuracy: 0.9681\n",
            "Epoch 74/100\n",
            "12/12 [==============================] - 0s 3ms/step - loss: 0.1030 - accuracy: 0.9843 - val_loss: 0.1241 - val_accuracy: 0.9681\n",
            "Epoch 75/100\n",
            "12/12 [==============================] - 0s 3ms/step - loss: 0.1021 - accuracy: 0.9843 - val_loss: 0.1237 - val_accuracy: 0.9681\n",
            "Epoch 76/100\n",
            "12/12 [==============================] - 0s 3ms/step - loss: 0.1012 - accuracy: 0.9843 - val_loss: 0.1233 - val_accuracy: 0.9681\n",
            "Epoch 77/100\n",
            "12/12 [==============================] - 0s 3ms/step - loss: 0.1004 - accuracy: 0.9843 - val_loss: 0.1230 - val_accuracy: 0.9681\n",
            "Epoch 78/100\n",
            "12/12 [==============================] - 0s 3ms/step - loss: 0.0996 - accuracy: 0.9843 - val_loss: 0.1226 - val_accuracy: 0.9681\n",
            "Epoch 79/100\n",
            "12/12 [==============================] - 0s 3ms/step - loss: 0.0987 - accuracy: 0.9816 - val_loss: 0.1223 - val_accuracy: 0.9681\n",
            "Epoch 80/100\n",
            "12/12 [==============================] - 0s 3ms/step - loss: 0.0979 - accuracy: 0.9843 - val_loss: 0.1218 - val_accuracy: 0.9681\n",
            "Epoch 81/100\n",
            "12/12 [==============================] - 0s 3ms/step - loss: 0.0971 - accuracy: 0.9843 - val_loss: 0.1215 - val_accuracy: 0.9681\n",
            "Epoch 82/100\n",
            "12/12 [==============================] - 0s 3ms/step - loss: 0.0963 - accuracy: 0.9843 - val_loss: 0.1212 - val_accuracy: 0.9681\n",
            "Epoch 83/100\n",
            "12/12 [==============================] - 0s 3ms/step - loss: 0.0956 - accuracy: 0.9843 - val_loss: 0.1209 - val_accuracy: 0.9628\n",
            "Epoch 84/100\n",
            "12/12 [==============================] - 0s 3ms/step - loss: 0.0948 - accuracy: 0.9843 - val_loss: 0.1206 - val_accuracy: 0.9628\n",
            "Epoch 85/100\n",
            "12/12 [==============================] - 0s 3ms/step - loss: 0.0941 - accuracy: 0.9816 - val_loss: 0.1203 - val_accuracy: 0.9628\n",
            "Epoch 86/100\n",
            "12/12 [==============================] - 0s 3ms/step - loss: 0.0934 - accuracy: 0.9816 - val_loss: 0.1200 - val_accuracy: 0.9628\n",
            "Epoch 87/100\n",
            "12/12 [==============================] - 0s 3ms/step - loss: 0.0927 - accuracy: 0.9816 - val_loss: 0.1197 - val_accuracy: 0.9628\n",
            "Epoch 88/100\n",
            "12/12 [==============================] - 0s 3ms/step - loss: 0.0920 - accuracy: 0.9816 - val_loss: 0.1195 - val_accuracy: 0.9628\n",
            "Epoch 89/100\n",
            "12/12 [==============================] - 0s 3ms/step - loss: 0.0913 - accuracy: 0.9816 - val_loss: 0.1192 - val_accuracy: 0.9628\n",
            "Epoch 90/100\n",
            "12/12 [==============================] - 0s 3ms/step - loss: 0.0906 - accuracy: 0.9816 - val_loss: 0.1189 - val_accuracy: 0.9628\n",
            "Epoch 91/100\n",
            "12/12 [==============================] - 0s 3ms/step - loss: 0.0900 - accuracy: 0.9816 - val_loss: 0.1187 - val_accuracy: 0.9628\n",
            "Epoch 92/100\n",
            "12/12 [==============================] - 0s 3ms/step - loss: 0.0894 - accuracy: 0.9843 - val_loss: 0.1184 - val_accuracy: 0.9628\n",
            "Epoch 93/100\n",
            "12/12 [==============================] - 0s 2ms/step - loss: 0.0888 - accuracy: 0.9816 - val_loss: 0.1182 - val_accuracy: 0.9628\n",
            "Epoch 94/100\n",
            "12/12 [==============================] - 0s 3ms/step - loss: 0.0881 - accuracy: 0.9816 - val_loss: 0.1179 - val_accuracy: 0.9628\n",
            "Epoch 95/100\n",
            "12/12 [==============================] - 0s 3ms/step - loss: 0.0875 - accuracy: 0.9843 - val_loss: 0.1176 - val_accuracy: 0.9628\n",
            "Epoch 96/100\n",
            "12/12 [==============================] - 0s 3ms/step - loss: 0.0870 - accuracy: 0.9816 - val_loss: 0.1175 - val_accuracy: 0.9628\n",
            "Epoch 97/100\n",
            "12/12 [==============================] - 0s 3ms/step - loss: 0.0863 - accuracy: 0.9790 - val_loss: 0.1174 - val_accuracy: 0.9628\n",
            "Epoch 98/100\n",
            "12/12 [==============================] - 0s 3ms/step - loss: 0.0858 - accuracy: 0.9790 - val_loss: 0.1171 - val_accuracy: 0.9628\n",
            "Epoch 99/100\n",
            "12/12 [==============================] - 0s 3ms/step - loss: 0.0852 - accuracy: 0.9790 - val_loss: 0.1169 - val_accuracy: 0.9628\n",
            "Epoch 100/100\n",
            "12/12 [==============================] - 0s 3ms/step - loss: 0.0846 - accuracy: 0.9790 - val_loss: 0.1167 - val_accuracy: 0.9628\n",
            "12/12 [==============================] - 0s 1ms/step - loss: 0.0843 - accuracy: 0.9790\n",
            "Train score: [0.08429490029811859, 0.9790025949478149]\n",
            "6/6 [==============================] - 0s 2ms/step - loss: 0.1167 - accuracy: 0.9628\n",
            "Test score: [0.11668657511472702, 0.9627659320831299]\n"
          ],
          "name": "stdout"
        }
      ]
    },
    {
      "cell_type": "code",
      "metadata": {
        "id": "aL03lWdPOcvE",
        "outputId": "2eccd108-0395-4808-c289-e91dd85474b5",
        "colab": {
          "base_uri": "https://localhost:8080/",
          "height": 283
        }
      },
      "source": [
        "import matplotlib.pyplot as plt\n",
        "plt.plot(r.history['loss'], label='loss')\n",
        "plt.plot(r.history['val_loss'], label='val_loss')\n",
        "plt.legend()\n",
        "\n"
      ],
      "execution_count": null,
      "outputs": [
        {
          "output_type": "execute_result",
          "data": {
            "text/plain": [
              "<matplotlib.legend.Legend at 0x7f94861a5710>"
            ]
          },
          "metadata": {
            "tags": []
          },
          "execution_count": 14
        },
        {
          "output_type": "display_data",
          "data": {
            "image/png": "[encoded data removed]",
            "text/plain": [
              "<Figure size 432x288 with 1 Axes>"
            ]
          },
          "metadata": {
            "tags": [],
            "needs_background": "light"
          }
        }
      ]
    },
    {
      "cell_type": "code",
      "metadata": {
        "id": "H6xmLvNKO2cC",
        "outputId": "0a6b86e6-981c-490e-e270-943d9ca2614f",
        "colab": {
          "base_uri": "https://localhost:8080/",
          "height": 284
        }
      },
      "source": [
        "plt.plot(r.history['accuracy'], label='acc')\n",
        "plt.plot(r.history['val_accuracy'], label='val_acc')\n",
        "plt.legend"
      ],
      "execution_count": null,
      "outputs": [
        {
          "output_type": "execute_result",
          "data": {
            "text/plain": [
              "<function matplotlib.pyplot.legend>"
            ]
          },
          "metadata": {
            "tags": []
          },
          "execution_count": 15
        },
        {
          "output_type": "display_data",
          "data": {
            "image/png": "[encoded data removed]",
            "text/plain": [
              "<Figure size 432x288 with 1 Axes>"
            ]
          },
          "metadata": {
            "tags": [],
            "needs_background": "light"
          }
        }
      ]
    },
    {
      "cell_type": "code",
      "metadata": {
        "id": "yNRV7ye09GZV",
        "outputId": "047f9d04-4036-47b2-86c9-8cbf394857ad",
        "colab": {
          "base_uri": "https://localhost:8080/",
          "height": 1000
        }
      },
      "source": [
        "P = model.predict(x_test)\n",
        "\n",
        "print(P)"
      ],
      "execution_count": null,
      "outputs": [
        {
          "output_type": "stream",
          "text": [
            "[[9.92429376e-01]\n",
            " [9.85636294e-01]\n",
            " [9.97765303e-01]\n",
            " [1.29631460e-02]\n",
            " [9.82654810e-01]\n",
            " [9.98497307e-01]\n",
            " [9.92370009e-01]\n",
            " [6.70805871e-02]\n",
            " [9.11125004e-01]\n",
            " [9.93659139e-01]\n",
            " [9.65975165e-01]\n",
            " [9.99130964e-01]\n",
            " [9.93245125e-01]\n",
            " [9.88892794e-01]\n",
            " [9.14085627e-01]\n",
            " [9.48889017e-01]\n",
            " [3.60397905e-01]\n",
            " [9.70404744e-01]\n",
            " [9.77849483e-01]\n",
            " [2.24828720e-04]\n",
            " [1.13913715e-02]\n",
            " [9.96038675e-01]\n",
            " [9.00624990e-02]\n",
            " [9.35687661e-01]\n",
            " [6.61462545e-04]\n",
            " [2.75135040e-03]\n",
            " [8.46483827e-01]\n",
            " [9.89572048e-01]\n",
            " [2.32349783e-01]\n",
            " [9.92065668e-01]\n",
            " [9.84158516e-01]\n",
            " [9.66594338e-01]\n",
            " [9.98111486e-01]\n",
            " [8.92970443e-01]\n",
            " [3.60003412e-02]\n",
            " [9.94855881e-01]\n",
            " [9.99549389e-01]\n",
            " [8.47748697e-01]\n",
            " [1.46339238e-02]\n",
            " [9.66636419e-01]\n",
            " [1.97955966e-03]\n",
            " [8.20171118e-01]\n",
            " [6.27008080e-03]\n",
            " [9.91611540e-01]\n",
            " [3.31431627e-04]\n",
            " [3.08761155e-05]\n",
            " [6.72459602e-04]\n",
            " [9.98735666e-01]\n",
            " [9.34608221e-01]\n",
            " [9.95034575e-01]\n",
            " [9.98881817e-01]\n",
            " [9.94127512e-01]\n",
            " [9.94585872e-01]\n",
            " [9.85335946e-01]\n",
            " [9.96847093e-01]\n",
            " [4.65993673e-01]\n",
            " [9.99460340e-01]\n",
            " [2.44062521e-05]\n",
            " [2.99973190e-02]\n",
            " [7.30526924e-01]\n",
            " [9.50531721e-01]\n",
            " [9.95901108e-01]\n",
            " [9.01559234e-01]\n",
            " [9.11023498e-01]\n",
            " [9.86617565e-01]\n",
            " [1.50322914e-04]\n",
            " [6.03529274e-01]\n",
            " [7.97612447e-05]\n",
            " [9.99741912e-01]\n",
            " [9.87570524e-01]\n",
            " [9.92638707e-01]\n",
            " [4.04249310e-01]\n",
            " [9.49925184e-01]\n",
            " [1.49571896e-03]\n",
            " [9.93746877e-01]\n",
            " [9.14848387e-01]\n",
            " [3.53083313e-02]\n",
            " [1.46147937e-01]\n",
            " [9.99812305e-01]\n",
            " [8.55982304e-04]\n",
            " [4.43369150e-03]\n",
            " [1.77362561e-03]\n",
            " [1.10507011e-03]\n",
            " [7.18680024e-03]\n",
            " [5.11678457e-01]\n",
            " [8.37675571e-01]\n",
            " [3.49892288e-01]\n",
            " [1.14862041e-05]\n",
            " [9.87829268e-01]\n",
            " [6.65393472e-03]\n",
            " [9.92527008e-01]\n",
            " [5.93689978e-02]\n",
            " [9.61577535e-01]\n",
            " [2.08081305e-02]\n",
            " [8.71153176e-01]\n",
            " [2.70813704e-04]\n",
            " [6.18785620e-04]\n",
            " [9.80661392e-01]\n",
            " [7.22031891e-02]\n",
            " [1.11779302e-01]\n",
            " [8.99936557e-01]\n",
            " [9.93256569e-01]\n",
            " [2.82031298e-03]\n",
            " [9.98671770e-01]\n",
            " [8.07911158e-04]\n",
            " [9.98589158e-01]\n",
            " [9.43464279e-01]\n",
            " [8.72073174e-01]\n",
            " [9.00405765e-01]\n",
            " [1.15044077e-06]\n",
            " [9.98196602e-01]\n",
            " [8.17371011e-01]\n",
            " [9.98197138e-01]\n",
            " [3.06159258e-04]\n",
            " [8.37231696e-01]\n",
            " [5.47772050e-01]\n",
            " [9.99803543e-01]\n",
            " [9.81150329e-01]\n",
            " [9.83799458e-01]\n",
            " [4.61479515e-01]\n",
            " [9.48489726e-01]\n",
            " [1.15490824e-01]\n",
            " [9.82585907e-01]\n",
            " [6.94924355e-01]\n",
            " [9.63404894e-01]\n",
            " [9.68463182e-01]\n",
            " [9.95995402e-01]\n",
            " [9.61591840e-01]\n",
            " [9.73177910e-01]\n",
            " [4.29207087e-03]\n",
            " [3.24761868e-03]\n",
            " [5.52655131e-08]\n",
            " [4.13898230e-02]\n",
            " [2.04589414e-05]\n",
            " [2.23274992e-06]\n",
            " [6.13659322e-01]\n",
            " [7.11657643e-01]\n",
            " [9.95981097e-01]\n",
            " [2.03700960e-02]\n",
            " [4.94990051e-02]\n",
            " [9.37331378e-01]\n",
            " [9.95467544e-01]\n",
            " [9.29771960e-02]\n",
            " [9.94207382e-01]\n",
            " [6.33623004e-01]\n",
            " [9.84806180e-01]\n",
            " [9.98572230e-01]\n",
            " [9.77636039e-01]\n",
            " [6.36458397e-04]\n",
            " [9.95197177e-01]\n",
            " [9.98080134e-01]\n",
            " [1.78962946e-04]\n",
            " [1.03744864e-03]\n",
            " [9.93373156e-01]\n",
            " [9.97898102e-01]\n",
            " [9.72016573e-01]\n",
            " [1.36696070e-01]\n",
            " [9.98031497e-01]\n",
            " [8.39885175e-01]\n",
            " [1.27918511e-08]\n",
            " [9.92136538e-01]\n",
            " [2.31608974e-05]\n",
            " [1.47223473e-04]\n",
            " [6.72619641e-01]\n",
            " [3.68540585e-02]\n",
            " [9.82927918e-01]\n",
            " [1.80396825e-01]\n",
            " [3.34876859e-07]\n",
            " [1.22671783e-01]\n",
            " [3.45585525e-01]\n",
            " [9.84099030e-01]\n",
            " [8.73626232e-01]\n",
            " [7.16894865e-04]\n",
            " [3.59177589e-04]\n",
            " [3.13553810e-02]\n",
            " [8.63429417e-09]\n",
            " [1.19736592e-06]\n",
            " [9.19853687e-01]\n",
            " [9.99202788e-01]\n",
            " [4.59476404e-08]\n",
            " [9.70475435e-01]\n",
            " [2.93780863e-02]\n",
            " [3.65611017e-02]\n",
            " [3.98083648e-05]\n",
            " [8.30724955e-01]\n",
            " [2.07106173e-02]\n",
            " [1.48078501e-02]\n",
            " [1.83521509e-02]]\n"
          ],
          "name": "stdout"
        }
      ]
    },
    {
      "cell_type": "code",
      "metadata": {
        "id": "ABQpsqHj9Pg9",
        "outputId": "e84a8778-84b4-4569-eadc-5064afe67f62",
        "colab": {
          "base_uri": "https://localhost:8080/",
          "height": 164
        }
      },
      "source": [
        "import numpy as np\n",
        "P = np.round(P).flatten()\n",
        "print(P)"
      ],
      "execution_count": null,
      "outputs": [
        {
          "output_type": "stream",
          "text": [
            "[1. 1. 1. 0. 1. 1. 1. 0. 1. 1. 1. 1. 1. 1. 1. 1. 0. 1. 1. 0. 0. 1. 0. 1.\n",
            " 0. 0. 1. 1. 0. 1. 1. 1. 1. 1. 0. 1. 1. 1. 0. 1. 0. 1. 0. 1. 0. 0. 0. 1.\n",
            " 1. 1. 1. 1. 1. 1. 1. 0. 1. 0. 0. 1. 1. 1. 1. 1. 1. 0. 1. 0. 1. 1. 1. 0.\n",
            " 1. 0. 1. 1. 0. 0. 1. 0. 0. 0. 0. 0. 1. 1. 0. 0. 1. 0. 1. 0. 1. 0. 1. 0.\n",
            " 0. 1. 0. 0. 1. 1. 0. 1. 0. 1. 1. 1. 1. 0. 1. 1. 1. 0. 1. 1. 1. 1. 1. 0.\n",
            " 1. 0. 1. 1. 1. 1. 1. 1. 1. 0. 0. 0. 0. 0. 0. 1. 1. 1. 0. 0. 1. 1. 0. 1.\n",
            " 1. 1. 1. 1. 0. 1. 1. 0. 0. 1. 1. 1. 0. 1. 1. 0. 1. 0. 0. 1. 0. 1. 0. 0.\n",
            " 0. 0. 1. 1. 0. 0. 0. 0. 0. 1. 1. 0. 1. 0. 0. 0. 1. 0. 0. 0.]\n"
          ],
          "name": "stdout"
        }
      ]
    },
    {
      "cell_type": "code",
      "metadata": {
        "id": "zjn8xd1J9dB2",
        "outputId": "78dfc0f3-8976-48e7-98c1-362842acdab1",
        "colab": {
          "base_uri": "https://localhost:8080/",
          "height": 72
        }
      },
      "source": [
        "print(\"Manually calculated accuracy:\", np.mean(P == y_test))\n",
        "print(\"Evaluate output:\", model.evaluate(x_test, y_test))"
      ],
      "execution_count": null,
      "outputs": [
        {
          "output_type": "stream",
          "text": [
            "Manually calculated accuracy: 0.9627659574468085\n",
            "6/6 [==============================] - 0s 1ms/step - loss: 0.1167 - accuracy: 0.9628\n",
            "Evaluate output: [0.11668657511472702, 0.9627659320831299]\n"
          ],
          "name": "stdout"
        }
      ]
    },
    {
      "cell_type": "code",
      "metadata": {
        "id": "6JS1o0St9685"
      },
      "source": [
        "model.save('linearclassifier.h5')"
      ],
      "execution_count": null,
      "outputs": []
    },
    {
      "cell_type": "code",
      "metadata": {
        "id": "v3ouSFVVw_no",
        "outputId": "368baf24-fdac-4cb9-ee1a-121c93bfb2dd",
        "colab": {
          "base_uri": "https://localhost:8080/",
          "height": 72
        }
      },
      "source": [
        "!ls -lh"
      ],
      "execution_count": null,
      "outputs": [
        {
          "output_type": "stream",
          "text": [
            "total 24K\n",
            "-rw-r--r-- 1 root root  19K Oct 16 14:15 linearclassifier.h5\n",
            "drwxr-xr-x 1 root root 4.0K Oct 14 16:31 sample_data\n"
          ],
          "name": "stdout"
        }
      ]
    },
    {
      "cell_type": "code",
      "metadata": {
        "id": "9CPQGftAxBS_",
        "outputId": "bac304b5-a200-47f9-af03-9e4f7ee916d9",
        "colab": {
          "base_uri": "https://localhost:8080/",
          "height": 72
        }
      },
      "source": [
        "model = tf.keras.models.load_model('linearclassifier.h5')\n",
        "print(model.layers)\n",
        "model.evaluate(x_test, y_test)"
      ],
      "execution_count": null,
      "outputs": [
        {
          "output_type": "stream",
          "text": [
            "[<tensorflow.python.keras.layers.core.Dense object at 0x7f9483b96518>]\n",
            "6/6 [==============================] - 0s 2ms/step - loss: 0.1167 - accuracy: 0.9628\n"
          ],
          "name": "stdout"
        },
        {
          "output_type": "execute_result",
          "data": {
            "text/plain": [
              "[0.11668657511472702, 0.9627659320831299]"
            ]
          },
          "metadata": {
            "tags": []
          },
          "execution_count": 21
        }
      ]
    },
    {
      "cell_type": "code",
      "metadata": {
        "id": "Kl1ugAZHxPCk",
        "outputId": "e17cb3ac-adf7-4f03-d78c-bec96036fc89",
        "colab": {
          "base_uri": "https://localhost:8080/",
          "height": 17
        }
      },
      "source": [
        "from google.colab import files\n",
        "files.download('linearclassifier.h5')"
      ],
      "execution_count": null,
      "outputs": [
        {
          "output_type": "display_data",
          "data": {
            "application/javascript": [
              "\n",
              "    async function download(id, filename, size) {\n",
              "      if (!google.colab.kernel.accessAllowed) {\n",
              "        return;\n",
              "      }\n",
              "      const div = document.createElement('div');\n",
              "      const label = document.createElement('label');\n",
              "      label.textContent = `Downloading \"${filename}\": `;\n",
              "      div.appendChild(label);\n",
              "      const progress = document.createElement('progress');\n",
              "      progress.max = size;\n",
              "      div.appendChild(progress);\n",
              "      document.body.appendChild(div);\n",
              "\n",
              "      const buffers = [];\n",
              "      let downloaded = 0;\n",
              "\n",
              "      const channel = await google.colab.kernel.comms.open(id);\n",
              "      // Send a message to notify the kernel that we're ready.\n",
              "      channel.send({})\n",
              "\n",
              "      for await (const message of channel.messages) {\n",
              "        // Send a message to notify the kernel that we're ready.\n",
              "        channel.send({})\n",
              "        if (message.buffers) {\n",
              "          for (const buffer of message.buffers) {\n",
              "            buffers.push(buffer);\n",
              "            downloaded += buffer.byteLength;\n",
              "            progress.value = downloaded;\n",
              "          }\n",
              "        }\n",
              "      }\n",
              "      const blob = new Blob(buffers, {type: 'application/binary'});\n",
              "      const a = document.createElement('a');\n",
              "      a.href = window.URL.createObjectURL(blob);\n",
              "      a.download = filename;\n",
              "      div.appendChild(a);\n",
              "      a.click();\n",
              "      div.remove();\n",
              "    }\n",
              "  "
            ],
            "text/plain": [
              "<IPython.core.display.Javascript object>"
            ]
          },
          "metadata": {
            "tags": []
          }
        },
        {
          "output_type": "display_data",
          "data": {
            "application/javascript": [
              "download(\"download_404dde93-f900-4bbf-b09f-b9aa9e3b41a7\", \"linearclassifier.h5\", 18480)"
            ],
            "text/plain": [
              "<IPython.core.display.Javascript object>"
            ]
          },
          "metadata": {
            "tags": []
          }
        }
      ]
    },
    {
      "cell_type": "code",
      "metadata": {
        "id": "c-D0VzfdyVWG"
      },
      "source": [
        ""
      ],
      "execution_count": null,
      "outputs": []
    }
  ]
}