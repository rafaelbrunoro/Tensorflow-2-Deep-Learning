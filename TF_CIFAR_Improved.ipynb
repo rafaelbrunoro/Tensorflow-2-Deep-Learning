{
  "nbformat": 4,
  "nbformat_minor": 0,
  "metadata": {
    "colab": {
      "name": "TF CIFAR Improved.ipynb",
      "provenance": []
    },
    "kernelspec": {
      "name": "python3",
      "display_name": "Python 3"
    },
    "accelerator": "GPU"
  },
  "cells": [
    {
      "cell_type": "code",
      "metadata": {
        "id": "ekCrFXhJ6b5U"
      },
      "source": [
        "import tensorflow as tf"
      ],
      "execution_count": null,
      "outputs": []
    },
    {
      "cell_type": "code",
      "metadata": {
        "id": "5rq6Wgnj6goo"
      },
      "source": [
        "import numpy as np\n",
        "import matplotlib.pyplot as plt\n",
        "from tensorflow.keras.layers import Input, Conv2D, Dense, Flatten, Dropout, GlobalMaxPooling2D, MaxPooling2D, BatchNormalization\n",
        "from tensorflow.keras.models import Model"
      ],
      "execution_count": null,
      "outputs": []
    },
    {
      "cell_type": "code",
      "metadata": {
        "id": "snQV2e7X6jI0",
        "outputId": "bf489a43-10ef-459f-d5a1-bd1c67727232",
        "colab": {
          "base_uri": "https://localhost:8080/",
          "height": 54
        }
      },
      "source": [
        "cifar10 = tf.keras.datasets.cifar10\n",
        "\n",
        "(x_train, y_train), (x_test, y_test) = cifar10.load_data()\n",
        "x_train, x_test = x_train / 255.0, x_test / 255.0\n",
        "y_train, y_test = y_train.flatten(), y_test.flatten()\n",
        "print(\"x_train.shape:\", x_train.shape)\n",
        "print(\"y_train.shape:\", y_train.shape)"
      ],
      "execution_count": null,
      "outputs": [
        {
          "output_type": "stream",
          "text": [
            "x_train.shape: (50000, 32, 32, 3)\n",
            "y_train.shape: (50000,)\n"
          ],
          "name": "stdout"
        }
      ]
    },
    {
      "cell_type": "code",
      "metadata": {
        "id": "otr5-i7r6uGe",
        "outputId": "7de061a7-4f9c-4321-c9f9-3060f59ca576",
        "colab": {
          "base_uri": "https://localhost:8080/",
          "height": 35
        }
      },
      "source": [
        "K = len(set(y_train))\n",
        "print(\"Number of classes:\", K)"
      ],
      "execution_count": null,
      "outputs": [
        {
          "output_type": "stream",
          "text": [
            "Number of classes: 10\n"
          ],
          "name": "stdout"
        }
      ]
    },
    {
      "cell_type": "code",
      "metadata": {
        "id": "ORHo6x0E7pmN"
      },
      "source": [
        "i = Input(shape=x_train[0].shape)\n",
        "#x = Conv2D(32, (3,3), strides=2, activation='relu')(i)\n",
        "#x = Conv2D(64, (3,3), strides=2, activation='relu')(x)\n",
        "#x = Conv2D(128, (3,3), strides=2, activation='relu')(x)\n",
        "\n",
        "x = Conv2D(32, (3, 3), activation='relu', padding='same')(i)\n",
        "x = BatchNormalization()(x)\n",
        "x = Conv2D(32, (3, 3), activation='relu', padding='same')(x)\n",
        "x = BatchNormalization()(x)\n",
        "x = MaxPooling2D((2, 2))(x)\n",
        "x = Conv2D(64, (3, 3), activation='relu', padding='same')(x)\n",
        "x = BatchNormalization()(x)\n",
        "x = Conv2D(64, (3, 3), activation='relu', padding='same')(x)\n",
        "x = BatchNormalization()(x)\n",
        "x = MaxPooling2D((2, 2))(x)\n",
        "x = Conv2D(128, (3, 3), activation='relu', padding='same')(x)\n",
        "x = BatchNormalization()(x)\n",
        "x = Conv2D(128, (3, 3), activation='relu', padding='same')(x)\n",
        "x = BatchNormalization()(x)\n",
        "x = MaxPooling2D((2, 2))(x)\n",
        "x = Flatten()(x)\n",
        "x = Dropout(0.2)(x)\n",
        "x = Dense(1024, activation='relu')(x)\n",
        "x = Dropout(0.2)(x)\n",
        "x = Dense(K, activation='softmax')(x)\n",
        "\n",
        "model = Model(i,x)"
      ],
      "execution_count": null,
      "outputs": []
    },
    {
      "cell_type": "code",
      "metadata": {
        "id": "bAh9b6yg7tyv"
      },
      "source": [
        "model.compile(optimizer='adam',\n",
        "              loss='sparse_categorical_crossentropy',\n",
        "              metrics=['accuracy'])"
      ],
      "execution_count": null,
      "outputs": []
    },
    {
      "cell_type": "code",
      "metadata": {
        "id": "N3KMH80UnxLO",
        "outputId": "ea999a6d-2eee-4a3d-d53d-e275a47e0a2d",
        "colab": {
          "base_uri": "https://localhost:8080/",
          "height": 1000
        }
      },
      "source": [
        "r = model.fit(x_train, y_train, validation_data=(x_test, y_test), epochs=50)"
      ],
      "execution_count": null,
      "outputs": [
        {
          "output_type": "stream",
          "text": [
            "Epoch 1/50\n",
            "1563/1563 [==============================] - 23s 15ms/step - loss: 1.3068 - accuracy: 0.5491 - val_loss: 1.0872 - val_accuracy: 0.6229\n",
            "Epoch 2/50\n",
            "1563/1563 [==============================] - 23s 15ms/step - loss: 0.8463 - accuracy: 0.7071 - val_loss: 0.8453 - val_accuracy: 0.7170\n",
            "Epoch 3/50\n",
            "1563/1563 [==============================] - 23s 15ms/step - loss: 0.6846 - accuracy: 0.7638 - val_loss: 0.7048 - val_accuracy: 0.7588\n",
            "Epoch 4/50\n",
            "1563/1563 [==============================] - 23s 15ms/step - loss: 0.5817 - accuracy: 0.8005 - val_loss: 0.7407 - val_accuracy: 0.7495\n",
            "Epoch 5/50\n",
            "1563/1563 [==============================] - 23s 15ms/step - loss: 0.4926 - accuracy: 0.8312 - val_loss: 0.6994 - val_accuracy: 0.7871\n",
            "Epoch 6/50\n",
            "1563/1563 [==============================] - 23s 15ms/step - loss: 0.4185 - accuracy: 0.8562 - val_loss: 0.6169 - val_accuracy: 0.7980\n",
            "Epoch 7/50\n",
            "1563/1563 [==============================] - 23s 15ms/step - loss: 0.3484 - accuracy: 0.8790 - val_loss: 0.6672 - val_accuracy: 0.7865\n",
            "Epoch 8/50\n",
            "1563/1563 [==============================] - 23s 15ms/step - loss: 0.2963 - accuracy: 0.8981 - val_loss: 0.6443 - val_accuracy: 0.8121\n",
            "Epoch 9/50\n",
            "1563/1563 [==============================] - 23s 15ms/step - loss: 0.2577 - accuracy: 0.9117 - val_loss: 0.6672 - val_accuracy: 0.8104\n",
            "Epoch 10/50\n",
            "1563/1563 [==============================] - 23s 15ms/step - loss: 0.2253 - accuracy: 0.9222 - val_loss: 0.6708 - val_accuracy: 0.8157\n",
            "Epoch 11/50\n",
            "1563/1563 [==============================] - 23s 15ms/step - loss: 0.1906 - accuracy: 0.9336 - val_loss: 0.6578 - val_accuracy: 0.8249\n",
            "Epoch 12/50\n",
            "1563/1563 [==============================] - 23s 15ms/step - loss: 0.1760 - accuracy: 0.9408 - val_loss: 0.6927 - val_accuracy: 0.8180\n",
            "Epoch 13/50\n",
            "1563/1563 [==============================] - 23s 15ms/step - loss: 0.1583 - accuracy: 0.9472 - val_loss: 0.6434 - val_accuracy: 0.8311\n",
            "Epoch 14/50\n",
            "1563/1563 [==============================] - 23s 15ms/step - loss: 0.1405 - accuracy: 0.9529 - val_loss: 0.8178 - val_accuracy: 0.8026\n",
            "Epoch 15/50\n",
            "1563/1563 [==============================] - 23s 15ms/step - loss: 0.1317 - accuracy: 0.9553 - val_loss: 0.7137 - val_accuracy: 0.8270\n",
            "Epoch 16/50\n",
            "1563/1563 [==============================] - 23s 15ms/step - loss: 0.1208 - accuracy: 0.9597 - val_loss: 0.7021 - val_accuracy: 0.8358\n",
            "Epoch 17/50\n",
            "1563/1563 [==============================] - 23s 15ms/step - loss: 0.1137 - accuracy: 0.9622 - val_loss: 0.7822 - val_accuracy: 0.8254\n",
            "Epoch 18/50\n",
            "1563/1563 [==============================] - 23s 15ms/step - loss: 0.1094 - accuracy: 0.9634 - val_loss: 0.7905 - val_accuracy: 0.8211\n",
            "Epoch 19/50\n",
            "1563/1563 [==============================] - 23s 15ms/step - loss: 0.0998 - accuracy: 0.9670 - val_loss: 0.8060 - val_accuracy: 0.8294\n",
            "Epoch 20/50\n",
            "1563/1563 [==============================] - 23s 15ms/step - loss: 0.0970 - accuracy: 0.9675 - val_loss: 0.9632 - val_accuracy: 0.8060\n",
            "Epoch 21/50\n",
            "1563/1563 [==============================] - 23s 15ms/step - loss: 0.0889 - accuracy: 0.9716 - val_loss: 0.7297 - val_accuracy: 0.8281\n",
            "Epoch 22/50\n",
            "1563/1563 [==============================] - 23s 15ms/step - loss: 0.0911 - accuracy: 0.9699 - val_loss: 0.7879 - val_accuracy: 0.8311\n",
            "Epoch 23/50\n",
            "1563/1563 [==============================] - 23s 15ms/step - loss: 0.0809 - accuracy: 0.9730 - val_loss: 0.7748 - val_accuracy: 0.8328\n",
            "Epoch 24/50\n",
            "1563/1563 [==============================] - 23s 15ms/step - loss: 0.0797 - accuracy: 0.9737 - val_loss: 0.7799 - val_accuracy: 0.8300\n",
            "Epoch 25/50\n",
            "1563/1563 [==============================] - 23s 15ms/step - loss: 0.0718 - accuracy: 0.9761 - val_loss: 0.7705 - val_accuracy: 0.8368\n",
            "Epoch 26/50\n",
            "1563/1563 [==============================] - 23s 15ms/step - loss: 0.0795 - accuracy: 0.9734 - val_loss: 0.8133 - val_accuracy: 0.8358\n",
            "Epoch 27/50\n",
            "1563/1563 [==============================] - 23s 15ms/step - loss: 0.0647 - accuracy: 0.9793 - val_loss: 0.8556 - val_accuracy: 0.8327\n",
            "Epoch 28/50\n",
            "1563/1563 [==============================] - 23s 15ms/step - loss: 0.0663 - accuracy: 0.9785 - val_loss: 0.8126 - val_accuracy: 0.8337\n",
            "Epoch 29/50\n",
            "1563/1563 [==============================] - 23s 15ms/step - loss: 0.0655 - accuracy: 0.9785 - val_loss: 0.7848 - val_accuracy: 0.8378\n",
            "Epoch 30/50\n",
            "1563/1563 [==============================] - 23s 15ms/step - loss: 0.0633 - accuracy: 0.9796 - val_loss: 0.7908 - val_accuracy: 0.8326\n",
            "Epoch 31/50\n",
            "1563/1563 [==============================] - 23s 15ms/step - loss: 0.0631 - accuracy: 0.9798 - val_loss: 0.8578 - val_accuracy: 0.8383\n",
            "Epoch 32/50\n",
            "1563/1563 [==============================] - 23s 15ms/step - loss: 0.0598 - accuracy: 0.9802 - val_loss: 0.7753 - val_accuracy: 0.8415\n",
            "Epoch 33/50\n",
            "1563/1563 [==============================] - 23s 15ms/step - loss: 0.0523 - accuracy: 0.9831 - val_loss: 0.9094 - val_accuracy: 0.8344\n",
            "Epoch 34/50\n",
            "1563/1563 [==============================] - 23s 15ms/step - loss: 0.0575 - accuracy: 0.9817 - val_loss: 0.8362 - val_accuracy: 0.8422\n",
            "Epoch 35/50\n",
            "1563/1563 [==============================] - 23s 15ms/step - loss: 0.0530 - accuracy: 0.9829 - val_loss: 0.8219 - val_accuracy: 0.8363\n",
            "Epoch 36/50\n",
            "1563/1563 [==============================] - 23s 15ms/step - loss: 0.0522 - accuracy: 0.9831 - val_loss: 0.9040 - val_accuracy: 0.8339\n",
            "Epoch 37/50\n",
            "1563/1563 [==============================] - 23s 15ms/step - loss: 0.0544 - accuracy: 0.9825 - val_loss: 0.8331 - val_accuracy: 0.8400\n",
            "Epoch 38/50\n",
            "1563/1563 [==============================] - 23s 15ms/step - loss: 0.0513 - accuracy: 0.9829 - val_loss: 0.8653 - val_accuracy: 0.8350\n",
            "Epoch 39/50\n",
            "1563/1563 [==============================] - 23s 15ms/step - loss: 0.0477 - accuracy: 0.9851 - val_loss: 0.8601 - val_accuracy: 0.8406\n",
            "Epoch 40/50\n",
            "1563/1563 [==============================] - 23s 15ms/step - loss: 0.0497 - accuracy: 0.9842 - val_loss: 0.8317 - val_accuracy: 0.8418\n",
            "Epoch 41/50\n",
            "1563/1563 [==============================] - 23s 15ms/step - loss: 0.0460 - accuracy: 0.9853 - val_loss: 0.9186 - val_accuracy: 0.8412\n",
            "Epoch 42/50\n",
            "1563/1563 [==============================] - 23s 15ms/step - loss: 0.0509 - accuracy: 0.9833 - val_loss: 0.9036 - val_accuracy: 0.8333\n",
            "Epoch 43/50\n",
            "1563/1563 [==============================] - 23s 15ms/step - loss: 0.0459 - accuracy: 0.9850 - val_loss: 0.7929 - val_accuracy: 0.8382\n",
            "Epoch 44/50\n",
            "1563/1563 [==============================] - 23s 15ms/step - loss: 0.0468 - accuracy: 0.9849 - val_loss: 0.8576 - val_accuracy: 0.8366\n",
            "Epoch 45/50\n",
            "1563/1563 [==============================] - 23s 15ms/step - loss: 0.0410 - accuracy: 0.9860 - val_loss: 0.9698 - val_accuracy: 0.8382\n",
            "Epoch 46/50\n",
            "1563/1563 [==============================] - 24s 15ms/step - loss: 0.0418 - accuracy: 0.9869 - val_loss: 0.8200 - val_accuracy: 0.8402\n",
            "Epoch 47/50\n",
            "1563/1563 [==============================] - 23s 15ms/step - loss: 0.0428 - accuracy: 0.9868 - val_loss: 0.9291 - val_accuracy: 0.8324\n",
            "Epoch 48/50\n",
            "1563/1563 [==============================] - 23s 15ms/step - loss: 0.0433 - accuracy: 0.9857 - val_loss: 0.8397 - val_accuracy: 0.8458\n",
            "Epoch 49/50\n",
            "1563/1563 [==============================] - 23s 15ms/step - loss: 0.0428 - accuracy: 0.9865 - val_loss: 0.8604 - val_accuracy: 0.8344\n",
            "Epoch 50/50\n",
            "1563/1563 [==============================] - 23s 15ms/step - loss: 0.0395 - accuracy: 0.9870 - val_loss: 0.9915 - val_accuracy: 0.8345\n"
          ],
          "name": "stdout"
        }
      ]
    },
    {
      "cell_type": "code",
      "metadata": {
        "id": "tOLaBS1EoXPm",
        "outputId": "9a4e19b6-a397-4447-e594-d49d68f059c4",
        "colab": {
          "base_uri": "https://localhost:8080/",
          "height": 1000
        }
      },
      "source": [
        "batch_size = 32\n",
        "data_generator = tf.keras.preprocessing.image.ImageDataGenerator(width_shift_range=0.1, height_shift_range=0.1, horizontal_flip=True)\n",
        "train_generator = data_generator.flow(x_train, y_train, batch_size)\n",
        "steps_per_epoch = x_train.shape[0] // batch_size\n",
        "r = model.fit_generator(train_generator, validation_data=(x_test, y_test), steps_per_epoch=steps_per_epoch, epochs=50)"
      ],
      "execution_count": null,
      "outputs": [
        {
          "output_type": "stream",
          "text": [
            "WARNING:tensorflow:From <ipython-input-8-d19ef1fa165b>:5: Model.fit_generator (from tensorflow.python.keras.engine.training) is deprecated and will be removed in a future version.\n",
            "Instructions for updating:\n",
            "Please use Model.fit, which supports generators.\n",
            "Epoch 1/50\n",
            "1562/1562 [==============================] - 41s 26ms/step - loss: 0.5460 - accuracy: 0.8259 - val_loss: 0.5099 - val_accuracy: 0.8375\n",
            "Epoch 2/50\n",
            "1562/1562 [==============================] - 42s 27ms/step - loss: 0.4457 - accuracy: 0.8516 - val_loss: 0.4582 - val_accuracy: 0.8528\n",
            "Epoch 3/50\n",
            "1562/1562 [==============================] - 42s 27ms/step - loss: 0.4101 - accuracy: 0.8630 - val_loss: 0.4784 - val_accuracy: 0.8431\n",
            "Epoch 4/50\n",
            "1562/1562 [==============================] - 42s 27ms/step - loss: 0.3891 - accuracy: 0.8698 - val_loss: 0.4561 - val_accuracy: 0.8519\n",
            "Epoch 5/50\n",
            "1562/1562 [==============================] - 42s 27ms/step - loss: 0.3667 - accuracy: 0.8775 - val_loss: 0.4468 - val_accuracy: 0.8549\n",
            "Epoch 6/50\n",
            "1562/1562 [==============================] - 42s 27ms/step - loss: 0.3533 - accuracy: 0.8809 - val_loss: 0.4379 - val_accuracy: 0.8588\n",
            "Epoch 7/50\n",
            "1562/1562 [==============================] - 42s 27ms/step - loss: 0.3399 - accuracy: 0.8855 - val_loss: 0.4680 - val_accuracy: 0.8584\n",
            "Epoch 8/50\n",
            "1562/1562 [==============================] - 41s 27ms/step - loss: 0.3299 - accuracy: 0.8892 - val_loss: 0.4711 - val_accuracy: 0.8528\n",
            "Epoch 9/50\n",
            "1562/1562 [==============================] - 42s 27ms/step - loss: 0.3194 - accuracy: 0.8933 - val_loss: 0.4092 - val_accuracy: 0.8695\n",
            "Epoch 10/50\n",
            "1562/1562 [==============================] - 42s 27ms/step - loss: 0.3093 - accuracy: 0.8950 - val_loss: 0.4560 - val_accuracy: 0.8580\n",
            "Epoch 11/50\n",
            "1562/1562 [==============================] - 42s 27ms/step - loss: 0.2961 - accuracy: 0.9009 - val_loss: 0.4276 - val_accuracy: 0.8593\n",
            "Epoch 12/50\n",
            "1562/1562 [==============================] - 41s 26ms/step - loss: 0.2932 - accuracy: 0.9019 - val_loss: 0.4452 - val_accuracy: 0.8572\n",
            "Epoch 13/50\n",
            "1562/1562 [==============================] - 42s 27ms/step - loss: 0.2890 - accuracy: 0.9017 - val_loss: 0.4148 - val_accuracy: 0.8720\n",
            "Epoch 14/50\n",
            "1562/1562 [==============================] - 42s 27ms/step - loss: 0.2797 - accuracy: 0.9068 - val_loss: 0.4232 - val_accuracy: 0.8708\n",
            "Epoch 15/50\n",
            "1562/1562 [==============================] - 42s 27ms/step - loss: 0.2704 - accuracy: 0.9084 - val_loss: 0.4396 - val_accuracy: 0.8666\n",
            "Epoch 16/50\n",
            "1562/1562 [==============================] - 44s 28ms/step - loss: 0.2692 - accuracy: 0.9096 - val_loss: 0.4468 - val_accuracy: 0.8714\n",
            "Epoch 17/50\n",
            "1562/1562 [==============================] - 43s 28ms/step - loss: 0.2614 - accuracy: 0.9103 - val_loss: 0.4003 - val_accuracy: 0.8736\n",
            "Epoch 18/50\n",
            "1562/1562 [==============================] - 42s 27ms/step - loss: 0.2568 - accuracy: 0.9130 - val_loss: 0.4153 - val_accuracy: 0.8714\n",
            "Epoch 19/50\n",
            "1562/1562 [==============================] - 42s 27ms/step - loss: 0.2470 - accuracy: 0.9152 - val_loss: 0.4050 - val_accuracy: 0.8715\n",
            "Epoch 20/50\n",
            "1562/1562 [==============================] - 43s 28ms/step - loss: 0.2458 - accuracy: 0.9166 - val_loss: 0.4371 - val_accuracy: 0.8700\n",
            "Epoch 21/50\n",
            "1562/1562 [==============================] - 42s 27ms/step - loss: 0.2415 - accuracy: 0.9182 - val_loss: 0.4416 - val_accuracy: 0.8669\n",
            "Epoch 22/50\n",
            "1562/1562 [==============================] - 42s 27ms/step - loss: 0.2360 - accuracy: 0.9188 - val_loss: 0.4679 - val_accuracy: 0.8635\n",
            "Epoch 23/50\n",
            "1562/1562 [==============================] - 42s 27ms/step - loss: 0.2352 - accuracy: 0.9199 - val_loss: 0.4545 - val_accuracy: 0.8677\n",
            "Epoch 24/50\n",
            "1562/1562 [==============================] - 42s 27ms/step - loss: 0.2297 - accuracy: 0.9212 - val_loss: 0.4187 - val_accuracy: 0.8734\n",
            "Epoch 25/50\n",
            "1562/1562 [==============================] - 42s 27ms/step - loss: 0.2193 - accuracy: 0.9249 - val_loss: 0.3960 - val_accuracy: 0.8806\n",
            "Epoch 26/50\n",
            "1562/1562 [==============================] - 42s 27ms/step - loss: 0.2226 - accuracy: 0.9249 - val_loss: 0.4160 - val_accuracy: 0.8765\n",
            "Epoch 27/50\n",
            "1562/1562 [==============================] - 43s 27ms/step - loss: 0.2162 - accuracy: 0.9256 - val_loss: 0.4108 - val_accuracy: 0.8777\n",
            "Epoch 28/50\n",
            "1562/1562 [==============================] - 42s 27ms/step - loss: 0.2195 - accuracy: 0.9260 - val_loss: 0.4249 - val_accuracy: 0.8719\n",
            "Epoch 29/50\n",
            "1562/1562 [==============================] - 42s 27ms/step - loss: 0.2107 - accuracy: 0.9285 - val_loss: 0.4529 - val_accuracy: 0.8721\n",
            "Epoch 30/50\n",
            "1562/1562 [==============================] - 42s 27ms/step - loss: 0.2100 - accuracy: 0.9290 - val_loss: 0.4137 - val_accuracy: 0.8734\n",
            "Epoch 31/50\n",
            "1562/1562 [==============================] - 42s 27ms/step - loss: 0.2009 - accuracy: 0.9307 - val_loss: 0.4146 - val_accuracy: 0.8764\n",
            "Epoch 32/50\n",
            "1562/1562 [==============================] - 41s 26ms/step - loss: 0.2016 - accuracy: 0.9312 - val_loss: 0.4045 - val_accuracy: 0.8774\n",
            "Epoch 33/50\n",
            "1562/1562 [==============================] - 42s 27ms/step - loss: 0.2055 - accuracy: 0.9316 - val_loss: 0.4117 - val_accuracy: 0.8768\n",
            "Epoch 34/50\n",
            "1562/1562 [==============================] - 42s 27ms/step - loss: 0.1985 - accuracy: 0.9326 - val_loss: 0.4712 - val_accuracy: 0.8720\n",
            "Epoch 35/50\n",
            "1562/1562 [==============================] - 43s 27ms/step - loss: 0.1955 - accuracy: 0.9339 - val_loss: 0.4155 - val_accuracy: 0.8773\n",
            "Epoch 36/50\n",
            "1562/1562 [==============================] - 42s 27ms/step - loss: 0.1924 - accuracy: 0.9341 - val_loss: 0.4425 - val_accuracy: 0.8736\n",
            "Epoch 37/50\n",
            "1562/1562 [==============================] - 43s 27ms/step - loss: 0.1912 - accuracy: 0.9336 - val_loss: 0.4465 - val_accuracy: 0.8857\n",
            "Epoch 38/50\n",
            "1562/1562 [==============================] - 43s 28ms/step - loss: 0.1875 - accuracy: 0.9360 - val_loss: 0.4533 - val_accuracy: 0.8769\n",
            "Epoch 39/50\n",
            "1562/1562 [==============================] - 43s 28ms/step - loss: 0.1843 - accuracy: 0.9371 - val_loss: 0.3902 - val_accuracy: 0.8830\n",
            "Epoch 40/50\n",
            "1562/1562 [==============================] - 43s 28ms/step - loss: 0.1848 - accuracy: 0.9375 - val_loss: 0.4472 - val_accuracy: 0.8798\n",
            "Epoch 41/50\n",
            "1562/1562 [==============================] - 43s 28ms/step - loss: 0.1802 - accuracy: 0.9392 - val_loss: 0.4079 - val_accuracy: 0.8804\n",
            "Epoch 42/50\n",
            "1562/1562 [==============================] - 44s 28ms/step - loss: 0.1834 - accuracy: 0.9390 - val_loss: 0.3943 - val_accuracy: 0.8761\n",
            "Epoch 43/50\n",
            "1562/1562 [==============================] - 43s 28ms/step - loss: 0.1734 - accuracy: 0.9410 - val_loss: 0.4334 - val_accuracy: 0.8836\n",
            "Epoch 44/50\n",
            "1562/1562 [==============================] - 43s 28ms/step - loss: 0.1774 - accuracy: 0.9403 - val_loss: 0.4030 - val_accuracy: 0.8828\n",
            "Epoch 45/50\n",
            "1562/1562 [==============================] - 43s 28ms/step - loss: 0.1731 - accuracy: 0.9425 - val_loss: 0.4268 - val_accuracy: 0.8826\n",
            "Epoch 46/50\n",
            "1562/1562 [==============================] - 43s 28ms/step - loss: 0.1708 - accuracy: 0.9422 - val_loss: 0.4288 - val_accuracy: 0.8818\n",
            "Epoch 47/50\n",
            "1562/1562 [==============================] - 43s 28ms/step - loss: 0.1698 - accuracy: 0.9419 - val_loss: 0.4213 - val_accuracy: 0.8829\n",
            "Epoch 48/50\n",
            "1562/1562 [==============================] - 43s 28ms/step - loss: 0.1659 - accuracy: 0.9439 - val_loss: 0.4482 - val_accuracy: 0.8736\n",
            "Epoch 49/50\n",
            "1562/1562 [==============================] - 44s 28ms/step - loss: 0.1696 - accuracy: 0.9427 - val_loss: 0.4240 - val_accuracy: 0.8736\n",
            "Epoch 50/50\n",
            "1562/1562 [==============================] - 43s 28ms/step - loss: 0.1649 - accuracy: 0.9445 - val_loss: 0.4174 - val_accuracy: 0.8821\n"
          ],
          "name": "stdout"
        }
      ]
    },
    {
      "cell_type": "code",
      "metadata": {
        "id": "JnkSOwnO8YlF",
        "outputId": "59154fcb-4ae2-42b8-ebc1-ba579aa45df7",
        "colab": {
          "base_uri": "https://localhost:8080/",
          "height": 283
        }
      },
      "source": [
        "import matplotlib.pyplot as plt\n",
        "plt.plot(r.history['loss'], label='loss')\n",
        "plt.plot(r.history['val_loss'], label='val_loss')\n",
        "plt.legend()"
      ],
      "execution_count": null,
      "outputs": [
        {
          "output_type": "execute_result",
          "data": {
            "text/plain": [
              "<matplotlib.legend.Legend at 0x7f45091bba20>"
            ]
          },
          "metadata": {
            "tags": []
          },
          "execution_count": 9
        },
        {
          "output_type": "display_data",
          "data": {
            "image/png": "[encoded data removed]",
            "text/plain": [
              "<Figure size 432x288 with 1 Axes>"
            ]
          },
          "metadata": {
            "tags": [],
            "needs_background": "light"
          }
        }
      ]
    },
    {
      "cell_type": "code",
      "metadata": {
        "id": "d2KwY3x1xskv",
        "outputId": "54b80e44-498e-4793-d984-06a373ca667d",
        "colab": {
          "base_uri": "https://localhost:8080/",
          "height": 283
        }
      },
      "source": [
        "plt.plot(r.history['accuracy'], label='acc')\n",
        "plt.plot(r.history['val_accuracy'], label='val_acc')\n",
        "plt.legend()"
      ],
      "execution_count": null,
      "outputs": [
        {
          "output_type": "execute_result",
          "data": {
            "text/plain": [
              "<matplotlib.legend.Legend at 0x7f4508c9e9e8>"
            ]
          },
          "metadata": {
            "tags": []
          },
          "execution_count": 10
        },
        {
          "output_type": "display_data",
          "data": {
            "image/png": "[encoded data removed]",
            "text/plain": [
              "<Figure size 432x288 with 1 Axes>"
            ]
          },
          "metadata": {
            "tags": [],
            "needs_background": "light"
          }
        }
      ]
    },
    {
      "cell_type": "code",
      "metadata": {
        "id": "UxVRxxdm9EV-",
        "outputId": "b5417da4-ae6c-4eec-c562-2ff083cb9fad",
        "colab": {
          "base_uri": "https://localhost:8080/",
          "height": 513
        }
      },
      "source": [
        "from sklearn.metrics import confusion_matrix\n",
        "import itertools\n",
        "\n",
        "def plot_confusion_matrix(cm, classes,\n",
        "                          normalize=False,\n",
        "                          title='Confusion matrix',\n",
        "                          cmap=plt.cm.Blues):\n",
        "  if normalize:\n",
        "    cm = cm.astype('float') / cm.sum(axis=1)[:, np.newaxis]\n",
        "    print(\"Normalized confusion matrix\")\n",
        "  else:\n",
        "    print(\"Confusion matrix, without normalization\")\n",
        "\n",
        "  print(cm)\n",
        "\n",
        "  plt.imshow(cm, interpolation='nearest', cmap=cmap)\n",
        "  plt.title(title)\n",
        "  plt.colorbar()\n",
        "  tick_marks = np.arange(len(classes))\n",
        "  plt.xticks(tick_marks, classes, rotation=45)\n",
        "  plt.yticks(tick_marks, classes)\n",
        "\n",
        "  fmt = '.2f' if normalize else 'd'\n",
        "  thresh = cm.max() / 2\n",
        "  for i, j in itertools.product(range(cm.shape[0]), range(cm.shape[1])):\n",
        "    plt.text(j, i, format(cm[i, j], fmt),\n",
        "             horizontalalignment=\"center\",\n",
        "             color=\"white\" if cm[i, j] > thresh else \"black\")\n",
        "  plt.tight_layout()\n",
        "  plt.ylabel('True label')\n",
        "  plt.xlabel('Predicted label')\n",
        "  plt.show()\n",
        "\n",
        "p_test = model.predict(x_test).argmax(axis=1)\n",
        "cm = confusion_matrix(y_test, p_test)\n",
        "plot_confusion_matrix(cm, list(range(10)))"
      ],
      "execution_count": null,
      "outputs": [
        {
          "output_type": "stream",
          "text": [
            "Confusion matrix, without normalization\n",
            "[[912   6  18  11   7   2   2   2  26  14]\n",
            " [  2 951   0   1   1   0   1   0  12  32]\n",
            " [ 34   1 814  34  45  20  31   9   4   8]\n",
            " [ 12   2  26 817  41  37  32  12   5  16]\n",
            " [  6   1  14  24 908   9  21  15   2   0]\n",
            " [  7   1  15 186  36 721  17  14   0   3]\n",
            " [  3   2  18  31  12   4 926   1   2   1]\n",
            " [ 10   0   7  20  31  12   3 908   2   7]\n",
            " [ 37   6   2   6   1   2   2   1 928  15]\n",
            " [ 10  37   1   3   0   1   2   1   9 936]]\n"
          ],
          "name": "stdout"
        },
        {
          "output_type": "display_data",
          "data": {
            "image/png": "[encoded data removed]",
            "text/plain": [
              "<Figure size 432x288 with 2 Axes>"
            ]
          },
          "metadata": {
            "tags": [],
            "needs_background": "light"
          }
        }
      ]
    },
    {
      "cell_type": "code",
      "metadata": {
        "id": "K4UG-CzV9MJn"
      },
      "source": [
        "labels='''airplane\n",
        "automobile\n",
        "bird\n",
        "cat\n",
        "deer\n",
        "dog\n",
        "frog\n",
        "horse\n",
        "ship\n",
        "truck'''.split()"
      ],
      "execution_count": null,
      "outputs": []
    },
    {
      "cell_type": "code",
      "metadata": {
        "id": "em2hG-EY9al0",
        "outputId": "d60f60f1-8df1-4b9c-a5d8-56e1a534a8a5",
        "colab": {
          "base_uri": "https://localhost:8080/",
          "height": 281
        }
      },
      "source": [
        "misclassified_idx = np.where(p_test != y_test)[0]\n",
        "i = np.random.choice(misclassified_idx)\n",
        "plt.imshow(x_test[i], cmap='gray')\n",
        "plt.title(\"True label: %s Predicted: %s\" % (labels[y_test[i]], labels[p_test[i]]));"
      ],
      "execution_count": null,
      "outputs": [
        {
          "output_type": "display_data",
          "data": {
            "image/png": "[encoded data removed]",
            "text/plain": [
              "<Figure size 432x288 with 1 Axes>"
            ]
          },
          "metadata": {
            "tags": [],
            "needs_background": "light"
          }
        }
      ]
    },
    {
      "cell_type": "code",
      "metadata": {
        "id": "EbJxX3Wn9nIi",
        "outputId": "5e2de81f-e457-46e4-8baf-2cc52cad020b",
        "colab": {
          "base_uri": "https://localhost:8080/",
          "height": 935
        }
      },
      "source": [
        "model.summary()"
      ],
      "execution_count": null,
      "outputs": [
        {
          "output_type": "stream",
          "text": [
            "Model: \"functional_1\"\n",
            "_________________________________________________________________\n",
            "Layer (type)                 Output Shape              Param #   \n",
            "=================================================================\n",
            "input_1 (InputLayer)         [(None, 32, 32, 3)]       0         \n",
            "_________________________________________________________________\n",
            "conv2d (Conv2D)              (None, 32, 32, 32)        896       \n",
            "_________________________________________________________________\n",
            "batch_normalization (BatchNo (None, 32, 32, 32)        128       \n",
            "_________________________________________________________________\n",
            "conv2d_1 (Conv2D)            (None, 32, 32, 32)        9248      \n",
            "_________________________________________________________________\n",
            "batch_normalization_1 (Batch (None, 32, 32, 32)        128       \n",
            "_________________________________________________________________\n",
            "max_pooling2d (MaxPooling2D) (None, 16, 16, 32)        0         \n",
            "_________________________________________________________________\n",
            "conv2d_2 (Conv2D)            (None, 16, 16, 64)        18496     \n",
            "_________________________________________________________________\n",
            "batch_normalization_2 (Batch (None, 16, 16, 64)        256       \n",
            "_________________________________________________________________\n",
            "conv2d_3 (Conv2D)            (None, 16, 16, 64)        36928     \n",
            "_________________________________________________________________\n",
            "batch_normalization_3 (Batch (None, 16, 16, 64)        256       \n",
            "_________________________________________________________________\n",
            "max_pooling2d_1 (MaxPooling2 (None, 8, 8, 64)          0         \n",
            "_________________________________________________________________\n",
            "conv2d_4 (Conv2D)            (None, 8, 8, 128)         73856     \n",
            "_________________________________________________________________\n",
            "batch_normalization_4 (Batch (None, 8, 8, 128)         512       \n",
            "_________________________________________________________________\n",
            "conv2d_5 (Conv2D)            (None, 8, 8, 128)         147584    \n",
            "_________________________________________________________________\n",
            "batch_normalization_5 (Batch (None, 8, 8, 128)         512       \n",
            "_________________________________________________________________\n",
            "max_pooling2d_2 (MaxPooling2 (None, 4, 4, 128)         0         \n",
            "_________________________________________________________________\n",
            "flatten (Flatten)            (None, 2048)              0         \n",
            "_________________________________________________________________\n",
            "dropout (Dropout)            (None, 2048)              0         \n",
            "_________________________________________________________________\n",
            "dense (Dense)                (None, 1024)              2098176   \n",
            "_________________________________________________________________\n",
            "dropout_1 (Dropout)          (None, 1024)              0         \n",
            "_________________________________________________________________\n",
            "dense_1 (Dense)              (None, 10)                10250     \n",
            "=================================================================\n",
            "Total params: 2,397,226\n",
            "Trainable params: 2,396,330\n",
            "Non-trainable params: 896\n",
            "_________________________________________________________________\n"
          ],
          "name": "stdout"
        }
      ]
    }
  ]
}